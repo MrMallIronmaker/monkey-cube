{
 "cells": [
  {
   "cell_type": "code",
   "execution_count": 3,
   "metadata": {},
   "outputs": [],
   "source": [
    "import scipy.sparse as sparse\n",
    "import scipy.sparse.linalg as linalg\n",
    "import numpy as np\n",
    "from random import randint\n",
    "import sys\n",
    "from matplotlib import pyplot as plt"
   ]
  },
  {
   "cell_type": "code",
   "execution_count": 4,
   "metadata": {},
   "outputs": [],
   "source": [
    "# ok! now try simulating the cube.\n",
    "# AS READABLE AS POSSIBLE.\n",
    "solved_configuration = (\n",
    "    (0, 0, 0, 0), (1, 1, 1, 1), (2, 2, 2, 2),\n",
    "    (3, 3, 3, 3), (4, 4, 4, 4), (5, 5, 5, 5)\n",
    ")\n",
    "\n",
    "def D(config):\n",
    "    # unpack.\n",
    "    (c01, c02, c03, c04), (c11, c12, c13, c14), (c21, c22, c23, c24), \\\n",
    "    (c31, c32, c33, c34), (c41, c42, c43, c44), (c51, c52, c53, c54) = config\n",
    "    \n",
    "    # repack.\n",
    "    return ((c01, c02, c03, c04), (c11, c44, c43, c14), (c21, c22, c12, c13),\n",
    "            (c31, c24, c23, c34), (c41, c42, c32, c33), (c52, c53, c54, c51))\n",
    "\n",
    "def Di(config):\n",
    "    # unpack.\n",
    "    (c01, c02, c03, c04), (c11, c44, c43, c14), (c21, c22, c12, c13), \\\n",
    "    (c31, c24, c23, c34), (c41, c42, c32, c33), (c52, c53, c54, c51) = config\n",
    "    \n",
    "    return ((c01, c02, c03, c04), (c11, c12, c13, c14), (c21, c22, c23, c24), \\\n",
    "            (c31, c32, c33, c34), (c41, c42, c43, c44), (c51, c52, c53, c54))\n",
    "\n",
    "def L(config):\n",
    "    (c01, c02, c03, c04), (c11, c12, c13, c14), (c21, c22, c23, c24), \\\n",
    "    (c31, c32, c33, c34), (c41, c42, c43, c44), (c51, c52, c53, c54) = config\n",
    "    \n",
    "    return ((c01, c34, c33, c04), (c11, c12, c02, c03), (c21, c22, c23, c24), \\\n",
    "            (c31, c32, c52, c53), (c42, c43, c44, c41), (c51, c14, c13, c54))\n",
    "\n",
    "def Li(config):\n",
    "    (c01, c34, c33, c04), (c11, c12, c02, c03), (c21, c22, c23, c24), \\\n",
    "    (c31, c32, c52, c53), (c42, c43, c44, c41), (c51, c14, c13, c54) = config\n",
    "    \n",
    "    return ((c01, c02, c03, c04), (c11, c12, c13, c14), (c21, c22, c23, c24), \\\n",
    "            (c31, c32, c33, c34), (c41, c42, c43, c44), (c51, c52, c53, c54))\n",
    "\n",
    "def B(config):\n",
    "    (c01, c02, c03, c04), (c11, c12, c13, c14), (c21, c22, c23, c24), \\\n",
    "    (c31, c32, c33, c34), (c41, c42, c43, c44), (c51, c52, c53, c54) = config\n",
    "    \n",
    "    return ((c01, c02, c22, c23), (c11, c12, c13, c14), (c21, c54, c53, c24), \\\n",
    "            (c32, c33, c34, c31), (c41, c04, c03, c44), (c51, c52, c42, c43))\n",
    "\n",
    "def Bi(config):\n",
    "    (c01, c02, c22, c23), (c11, c12, c13, c14), (c21, c54, c53, c24), \\\n",
    "    (c32, c33, c34, c31), (c41, c04, c03, c44), (c51, c52, c42, c43) = config\n",
    "\n",
    "    return ((c01, c02, c03, c04), (c11, c12, c13, c14), (c21, c22, c23, c24), \\\n",
    "            (c31, c32, c33, c34), (c41, c42, c43, c44), (c51, c52, c53, c54))\n",
    "\n",
    "def Dh(config):\n",
    "    return D(D(config))\n",
    "\n",
    "def Lh(config):\n",
    "    return L(L(config))\n",
    "\n",
    "def Bh(config):\n",
    "    return B(B(config))"
   ]
  },
  {
   "cell_type": "code",
   "execution_count": 5,
   "metadata": {},
   "outputs": [
    {
     "name": "stdout",
     "output_type": "stream",
     "text": [
      "..........\n",
      "..........\n",
      "..........\n",
      "......"
     ]
    }
   ],
   "source": [
    "# let's do some math.\n",
    "start_point = solved_configuration\n",
    "new_states = set([start_point]) # everything that needs another look at\n",
    "states = set([start_point]) # everything\n",
    "links = set([]) # tuples of indexes into states\n",
    "rotations = [D, Di, L, Li, B, Bi]\n",
    "rotations += [Dh, Lh, Bh]\n",
    "states_index = {start_point : 0}\n",
    "\n",
    "while new_states:\n",
    "    # get a new base state. this is what we're going to be clearing off our list.\n",
    "    base_state = new_states.pop()\n",
    "    \n",
    "    # now, rotate it in each direction:\n",
    "    for rotate in rotations:\n",
    "        new_state = rotate(base_state)\n",
    "        \n",
    "        # add the new state\n",
    "        if new_state not in states:\n",
    "            new_states.add(new_state)\n",
    "            states.add(new_state)\n",
    "            \n",
    "            states_index[new_state] = len(states) - 1\n",
    "            \n",
    "            if len(states) % 100000 == 0:\n",
    "                sys.stdout.write('.')\n",
    "                if len(states) % 1000000 == 0:\n",
    "                    sys.stdout.write('\\n')\n",
    "                sys.stdout.flush()\n",
    "                \n",
    "        \n",
    "        # add the link, if it's new, to the list.\n",
    "        link = (states_index[base_state], states_index[new_state])\n",
    "        if link not in links:\n",
    "            links.add(link)"
   ]
  },
  {
   "cell_type": "code",
   "execution_count": 6,
   "metadata": {},
   "outputs": [
    {
     "name": "stdout",
     "output_type": "stream",
     "text": [
      "3674160\n",
      "33067440\n",
      "9\n"
     ]
    }
   ],
   "source": [
    "print len(states)\n",
    "print len(links)\n",
    "print len(links) / len(states)"
   ]
  },
  {
   "cell_type": "code",
   "execution_count": 7,
   "metadata": {
    "scrolled": true
   },
   "outputs": [
    {
     "name": "stdout",
     "output_type": "stream",
     "text": [
      ".\n",
      "....................................\n",
      "....................................\n",
      "....................................\n",
      "....................................\n",
      "....................................\n",
      "....................................\n",
      "....................................\n",
      "....................................\n",
      "....................................\n",
      "......"
     ]
    }
   ],
   "source": [
    "mat = sparse.dok_matrix((3674159, 3674159), dtype=np.float64)\n",
    "for i in range(3674159):\n",
    "    mat[i, i] = 1\n",
    "for e, (s, d) in enumerate(links):\n",
    "    if e % 100000 == 0:\n",
    "        sys.stdout.write('.')\n",
    "        if e % 3600000 == 0:\n",
    "            sys.stdout.write('\\n')\n",
    "        sys.stdout.flush()\n",
    "    if s != 0 and d != 0:\n",
    "        mat[s-1, d-1] = -1/9."
   ]
  },
  {
   "cell_type": "code",
   "execution_count": 8,
   "metadata": {},
   "outputs": [
    {
     "data": {
      "text/plain": [
       "36741581"
      ]
     },
     "execution_count": 8,
     "metadata": {},
     "output_type": "execute_result"
    }
   ],
   "source": [
    "mat.nnz"
   ]
  },
  {
   "cell_type": "code",
   "execution_count": 9,
   "metadata": {},
   "outputs": [],
   "source": [
    "matcsr = mat.tocsr()"
   ]
  },
  {
   "cell_type": "code",
   "execution_count": 10,
   "metadata": {},
   "outputs": [],
   "source": [
    "sparse.save_npz('htm_csr.npz', matcsr)"
   ]
  },
  {
   "cell_type": "code",
   "execution_count": 1,
   "metadata": {},
   "outputs": [
    {
     "ename": "NameError",
     "evalue": "name 'sparse' is not defined",
     "output_type": "error",
     "traceback": [
      "\u001b[0;31m---------------------------------------------------------------------------\u001b[0m",
      "\u001b[0;31mNameError\u001b[0m                                 Traceback (most recent call last)",
      "\u001b[0;32m<ipython-input-1-31d536a2f23b>\u001b[0m in \u001b[0;36m<module>\u001b[0;34m()\u001b[0m\n\u001b[0;32m----> 1\u001b[0;31m \u001b[0mmatcsr\u001b[0m \u001b[0;34m=\u001b[0m \u001b[0msparse\u001b[0m\u001b[0;34m.\u001b[0m\u001b[0mload_npz\u001b[0m\u001b[0;34m(\u001b[0m\u001b[0;34m'matcsr.npz'\u001b[0m\u001b[0;34m)\u001b[0m\u001b[0;34m\u001b[0m\u001b[0m\n\u001b[0m",
      "\u001b[0;31mNameError\u001b[0m: name 'sparse' is not defined"
     ]
    }
   ],
   "source": [
    "matcsr = sparse.load_npz('htm_csr.npz')"
   ]
  },
  {
   "cell_type": "code",
   "execution_count": 40,
   "metadata": {
    "collapsed": true
   },
   "outputs": [],
   "source": [
    "small_size = 3674159\n",
    "small = matcsr[:small_size, :small_size]"
   ]
  },
  {
   "cell_type": "code",
   "execution_count": 11,
   "metadata": {},
   "outputs": [
    {
     "data": {
      "text/plain": [
       "array([[1.],\n",
       "       [1.],\n",
       "       [1.],\n",
       "       ...,\n",
       "       [1.],\n",
       "       [1.],\n",
       "       [1.]])"
      ]
     },
     "execution_count": 11,
     "metadata": {},
     "output_type": "execute_result"
    }
   ],
   "source": [
    "ones = np.ones((3674159, 1))\n",
    "ones"
   ]
  },
  {
   "cell_type": "code",
   "execution_count": 12,
   "metadata": {},
   "outputs": [],
   "source": [
    "product = matcsr * ones"
   ]
  },
  {
   "cell_type": "code",
   "execution_count": 13,
   "metadata": {},
   "outputs": [
    {
     "data": {
      "image/png": "[encoded data removed]",
      "text/plain": [
       "<Figure size 432x288 with 1 Axes>"
      ]
     },
     "metadata": {},
     "output_type": "display_data"
    }
   ],
   "source": [
    "plt.plot(product)\n",
    "plt.show()"
   ]
  },
  {
   "cell_type": "code",
   "execution_count": 14,
   "metadata": {},
   "outputs": [],
   "source": [
    "result, conv = sparse.linalg.bicg(matcsr, ones)"
   ]
  },
  {
   "cell_type": "code",
   "execution_count": 15,
   "metadata": {},
   "outputs": [
    {
     "name": "stdout",
     "output_type": "stream",
     "text": [
      "4410505.476855754\n"
     ]
    }
   ],
   "source": [
    "assert(conv == 0)\n",
    "print result.mean()"
   ]
  },
  {
   "cell_type": "code",
   "execution_count": null,
   "metadata": {
    "collapsed": true
   },
   "outputs": [],
   "source": []
  }
 ],
 "metadata": {
  "kernelspec": {
   "display_name": "Python 2",
   "language": "python",
   "name": "python2"
  },
  "language_info": {
   "codemirror_mode": {
    "name": "ipython",
    "version": 2
   },
   "file_extension": ".py",
   "mimetype": "text/x-python",
   "name": "python",
   "nbconvert_exporter": "python",
   "pygments_lexer": "ipython2",
   "version": "2.7.12"
  }
 },
 "nbformat": 4,
 "nbformat_minor": 2
}
