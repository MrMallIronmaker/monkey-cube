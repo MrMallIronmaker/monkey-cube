{
 "cells": [
  {
   "cell_type": "code",
   "execution_count": 3,
   "metadata": {
    "collapsed": true
   },
   "outputs": [],
   "source": [
    "import scipy.sparse as sparse\n",
    "import scipy.sparse.linalg as linalg\n",
    "import numpy as np\n",
    "from random import randint, choice\n",
    "import sys\n",
    "from matplotlib import pyplot as plt"
   ]
  },
  {
   "cell_type": "code",
   "execution_count": 2,
   "metadata": {
    "collapsed": true
   },
   "outputs": [],
   "source": [
    "# ok! now try simulating the cube.\n",
    "# AS READABLE AS POSSIBLE.\n",
    "solved_configuration = (\n",
    "    (0, 0, 0, 0), (1, 1, 1, 1), (2, 2, 2, 2),\n",
    "    (3, 3, 3, 3), (4, 4, 4, 4), (5, 5, 5, 5)\n",
    ")\n",
    "\n",
    "def D(config):\n",
    "    # unpack.\n",
    "    (c01, c02, c03, c04), (c11, c12, c13, c14), (c21, c22, c23, c24), \\\n",
    "    (c31, c32, c33, c34), (c41, c42, c43, c44), (c51, c52, c53, c54) = config\n",
    "    \n",
    "    # repack.\n",
    "    return ((c01, c02, c03, c04), (c11, c44, c43, c14), (c21, c22, c12, c13),\n",
    "            (c31, c24, c23, c34), (c41, c42, c32, c33), (c52, c53, c54, c51))\n",
    "\n",
    "def Di(config):\n",
    "    # unpack.\n",
    "    (c01, c02, c03, c04), (c11, c44, c43, c14), (c21, c22, c12, c13), \\\n",
    "    (c31, c24, c23, c34), (c41, c42, c32, c33), (c52, c53, c54, c51) = config\n",
    "    \n",
    "    return ((c01, c02, c03, c04), (c11, c12, c13, c14), (c21, c22, c23, c24), \\\n",
    "            (c31, c32, c33, c34), (c41, c42, c43, c44), (c51, c52, c53, c54))\n",
    "\n",
    "def L(config):\n",
    "    (c01, c02, c03, c04), (c11, c12, c13, c14), (c21, c22, c23, c24), \\\n",
    "    (c31, c32, c33, c34), (c41, c42, c43, c44), (c51, c52, c53, c54) = config\n",
    "    \n",
    "    return ((c01, c34, c33, c04), (c11, c12, c02, c03), (c21, c22, c23, c24), \\\n",
    "            (c31, c32, c52, c53), (c42, c43, c44, c41), (c51, c14, c13, c54))\n",
    "\n",
    "def Li(config):\n",
    "    (c01, c34, c33, c04), (c11, c12, c02, c03), (c21, c22, c23, c24), \\\n",
    "    (c31, c32, c52, c53), (c42, c43, c44, c41), (c51, c14, c13, c54) = config\n",
    "    \n",
    "    return ((c01, c02, c03, c04), (c11, c12, c13, c14), (c21, c22, c23, c24), \\\n",
    "            (c31, c32, c33, c34), (c41, c42, c43, c44), (c51, c52, c53, c54))\n",
    "\n",
    "def B(config):\n",
    "    (c01, c02, c03, c04), (c11, c12, c13, c14), (c21, c22, c23, c24), \\\n",
    "    (c31, c32, c33, c34), (c41, c42, c43, c44), (c51, c52, c53, c54) = config\n",
    "    \n",
    "    return ((c01, c02, c22, c23), (c11, c12, c13, c14), (c21, c54, c53, c24), \\\n",
    "            (c32, c33, c34, c31), (c41, c04, c03, c44), (c51, c52, c42, c43))\n",
    "\n",
    "def Bi(config):\n",
    "    (c01, c02, c22, c23), (c11, c12, c13, c14), (c21, c54, c53, c24), \\\n",
    "    (c32, c33, c34, c31), (c41, c04, c03, c44), (c51, c52, c42, c43) = config\n",
    "\n",
    "    return ((c01, c02, c03, c04), (c11, c12, c13, c14), (c21, c22, c23, c24), \\\n",
    "            (c31, c32, c33, c34), (c41, c42, c43, c44), (c51, c52, c53, c54))"
   ]
  },
  {
   "cell_type": "code",
   "execution_count": 8,
   "metadata": {},
   "outputs": [
    {
     "name": "stdout",
     "output_type": "stream",
     "text": [
      "...............\n",
      "1551492\n",
      "....\n",
      "439858\n",
      "..................................................\n",
      "5098956\n",
      "..............................................................\n",
      "6247732\n",
      ".............................................\n",
      "4563658\n",
      "...................\n",
      "1992728\n",
      ".........\n",
      "989100\n",
      ".................\n",
      "1773728\n",
      "........\n",
      "804510\n",
      ".................................................................................................................................................\n",
      "14594368\n"
     ]
    }
   ],
   "source": [
    "moves = [D, Di, L, Li, B, Bi]\n",
    "\n",
    "def random_move(config):\n",
    "    return choice(moves)(config)\n",
    "\n",
    "for i in range(10):\n",
    "    # shuffle it\n",
    "    configuration = solved_configuration\n",
    "    for i in range(300):\n",
    "        configuration = random_move(configuration)\n",
    "\n",
    "    move_count = 0\n",
    "    while configuration != solved_configuration:\n",
    "        move_count += 1\n",
    "        if move_count % 100000 == 0:\n",
    "            sys.stdout.write('.')\n",
    "            sys.stdout.flush()\n",
    "        configuration = random_move(configuration)\n",
    "    print\n",
    "    print move_count\n"
   ]
  },
  {
   "cell_type": "code",
   "execution_count": null,
   "metadata": {
    "collapsed": true
   },
   "outputs": [],
   "source": []
  }
 ],
 "metadata": {
  "kernelspec": {
   "display_name": "Python 2",
   "language": "python",
   "name": "python2"
  },
  "language_info": {
   "codemirror_mode": {
    "name": "ipython",
    "version": 2
   },
   "file_extension": ".py",
   "mimetype": "text/x-python",
   "name": "python",
   "nbconvert_exporter": "python",
   "pygments_lexer": "ipython2",
   "version": "2.7.12"
  }
 },
 "nbformat": 4,
 "nbformat_minor": 2
}
