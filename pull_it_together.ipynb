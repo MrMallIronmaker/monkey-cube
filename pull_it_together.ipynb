{
 "cells": [
  {
   "cell_type": "markdown",
   "metadata": {},
   "source": [
    "# Flippin' Shapes"
   ]
  },
  {
   "cell_type": "markdown",
   "metadata": {},
   "source": [
    "What's the next bit of complexity we can add to rotating triangles, squares, and other polygons? Well, if they're in our 3D world, they all can be flipped over.\n",
    "\n",
    "What sort of graph does this group produce? Well, if we use a dot like we did before, the dot can be in one of the $n$ corners of the $n$-gon, but it also could be on either the front side or back side of the shape. In order to visualize things better, we'll define the 'flip' to be flipped over the axis going through both the dot and the center of the shape. (If you're interested, try to convince yourself this is the same as being flipped over some other axis that doesn't depend on the position of the dot.)\n",
    "\n",
    "As before, let's use the idea of a Cayley graph. Instead of visualizing the shape moving around from pose to pose, visualize each place the dot could be all at once. Then, think through each move we could do on the shape. If there's a move that we could do to turn one dot into another, then connect those dots in the graph. [TODO: make some images for this process]"
   ]
  },
  {
   "cell_type": "markdown",
   "metadata": {},
   "source": [
    "What we end up with is a prism graph with $n$ sides. It looks something like this:\n",
    "\n",
    "![image of example prism graphs](http://mathworld.wolfram.com/images/eps-gif/PrismGraph_1000.gif)\n",
    "\n",
    "Credit: Wolfram MathWorld\n",
    "[TODO] make better images for this."
   ]
  },
  {
   "cell_type": "markdown",
   "metadata": {},
   "source": [
    "As before, with the polygon example, we're looking for the expected length of a random walk from a randomly chosen vertex to a given target vertex. We can use the same method as last time: convert the graph to an adjacency matrix, and then solve the matrix to find the expected time for each node, then average all the nodes. However, it's more elegant to have a closed-form solution, and it tells us more about what's going on in the graph - so just like before, we'll write some code to calculate the answer for us if it's given some $n$, then work through the patterns we find, and try to justify them."
   ]
  },
  {
   "cell_type": "markdown",
   "metadata": {},
   "source": [
    "## Calculating with some Linear Algebra"
   ]
  },
  {
   "cell_type": "markdown",
   "metadata": {},
   "source": [
    "As before, we have a linear equation for each vertex in the graph. Let's consider $n=5$. Each vertex has a one-third chance of going to the two vertices next to it in the cycle, and a one third chance of going to the other cycle. Laying out the vertices in 0 to 4 of one cycle, and 0 to 4 of the other, we get the matrix\n",
    "\n",
    "\\begin{bmatrix}\n",
    " 1 & -\\frac{1}{3} & 0 & 0 & -\\frac{1}{3} & -\\frac{1}{3} & 0 & 0 & 0 & 0 \\\\\n",
    " -\\frac{1}{3} & 1 & -\\frac{1}{3} & 0 & 0 & 0 & -\\frac{1}{3} & 0 & 0 & 0 \\\\\n",
    " 0 & -\\frac{1}{3} & 1 & -\\frac{1}{3} & 0 & 0 & 0 & -\\frac{1}{3} & 0 & 0 \\\\\n",
    " 0 & 0 & -\\frac{1}{3} & 1 & -\\frac{1}{3} & 0 & 0 & 0 & -\\frac{1}{3} & 0 \\\\\n",
    " -\\frac{1}{3} & 0 & 0 & -\\frac{1}{3} & 1 & 0 & 0 & 0 & 0 & -\\frac{1}{3} \\\\\n",
    " -\\frac{1}{3} & 0 & 0 & 0 & 0 & 1 & -\\frac{1}{3} & 0 & 0 & -\\frac{1}{3} \\\\\n",
    " 0 & -\\frac{1}{3} & 0 & 0 & 0 & -\\frac{1}{3} & 1 & -\\frac{1}{3} & 0 & 0 \\\\\n",
    " 0 & 0 & -\\frac{1}{3} & 0 & 0 & 0 & -\\frac{1}{3} & 1 & -\\frac{1}{3} & 0 \\\\\n",
    " 0 & 0 & 0 & -\\frac{1}{3} & 0 & 0 & 0 & -\\frac{1}{3} & 1 & -\\frac{1}{3} \\\\\n",
    " 0 & 0 & 0 & 0 & -\\frac{1}{3} & -\\frac{1}{3} & 0 & 0 & -\\frac{1}{3} & 1 \\\\\n",
    "\\end{bmatrix}\n"
   ]
  },
  {
   "cell_type": "markdown",
   "metadata": {},
   "source": [
    "Note that the matrix is split into four squares, with the top left and bottom right being the same, and the top right and bottom left being the same. Why is this the case?\n",
    "\n",
    "If we remove the topmost row and leftmost column, as we did before, we get our matrix. \n",
    "\n",
    "I've programmed a function to generate this matrix in SageMath code [much like Python, but mathy-er]."
   ]
  },
  {
   "cell_type": "code",
   "execution_count": 1,
   "metadata": {
    "collapsed": true
   },
   "outputs": [],
   "source": [
    "# n = number of sides of shape\n",
    "# returns: A, b such that Ax = b is the expected number of moves.\n",
    "def create_prism_graph_matrix(n):\n",
    "    \n",
    "    # this is a handy value to not keep writing.\n",
    "    # it's for when one vertex is linked with another.\n",
    "    link = -1/3\n",
    "    \n",
    "    # make the matrices from QQ (the rational numbers)\n",
    "    A = matrix(QQ, 2*n, 2*n)\n",
    "    b = matrix(QQ, 2*n, 1)\n",
    "    \n",
    "    # first, fill out the top left\n",
    "    for i in range(n):\n",
    "        A[i, i] = 1\n",
    "        b[i, 0] = 1\n",
    "        if i > 0:\n",
    "            A[i-1, i] = link\n",
    "            A[i, i-1] = link\n",
    "    \n",
    "    # now, do the bottom right\n",
    "    for i in range(n, 2*n):\n",
    "        A[i, i] = 1\n",
    "        b[i, 0] = 1\n",
    "        if i > n:\n",
    "            A[i-1, i] = link\n",
    "            A[i, i-1] = link\n",
    "    \n",
    "    # fill out the diagonals \n",
    "    for i in range(n):\n",
    "        A[i, i+n] = link\n",
    "        A[i+n, i] = link\n",
    "    \n",
    "    # get those last pesky corners.\n",
    "    A[0, n-1] = link\n",
    "    A[n-1, 0] = link\n",
    "    A[n, 2*n-1] = link\n",
    "    A[2*n-1, n] = link\n",
    "    \n",
    "    # trim off the top row and left column.\n",
    "    A = A[1:, 1:]\n",
    "    b = b[1:]\n",
    "    \n",
    "    return A, b"
   ]
  },
  {
   "cell_type": "code",
   "execution_count": 2,
   "metadata": {
    "collapsed": false
   },
   "outputs": [
    {
     "data": {
      "text/markdown": [
       "\\begin{array}{rrrrrrrrr}\n",
       "1 & -\\frac{1}{3} & 0 & 0 & 0 & -\\frac{1}{3} & 0 & 0 & 0 \\\\\n",
       "-\\frac{1}{3} & 1 & -\\frac{1}{3} & 0 & 0 & 0 & -\\frac{1}{3} & 0 & 0 \\\\\n",
       "0 & -\\frac{1}{3} & 1 & -\\frac{1}{3} & 0 & 0 & 0 & -\\frac{1}{3} & 0 \\\\\n",
       "0 & 0 & -\\frac{1}{3} & 1 & 0 & 0 & 0 & 0 & -\\frac{1}{3} \\\\\n",
       "0 & 0 & 0 & 0 & 1 & -\\frac{1}{3} & 0 & 0 & -\\frac{1}{3} \\\\\n",
       "-\\frac{1}{3} & 0 & 0 & 0 & -\\frac{1}{3} & 1 & -\\frac{1}{3} & 0 & 0 \\\\\n",
       "0 & -\\frac{1}{3} & 0 & 0 & 0 & -\\frac{1}{3} & 1 & -\\frac{1}{3} & 0 \\\\\n",
       "0 & 0 & -\\frac{1}{3} & 0 & 0 & 0 & -\\frac{1}{3} & 1 & -\\frac{1}{3} \\\\\n",
       "0 & 0 & 0 & -\\frac{1}{3} & -\\frac{1}{3} & 0 & 0 & -\\frac{1}{3} & 1\n",
       "\\end{array}"
      ],
      "text/plain": [
       "<IPython.core.display.Markdown object>"
      ]
     },
     "metadata": {},
     "output_type": "display_data"
    }
   ],
   "source": [
    "from IPython.display import display, Markdown, Latex\n",
    "\n",
    "# Let's work with a pentagon that we can flip\n",
    "n = 5\n",
    "\n",
    "# Make the matrix and make sure it looks right.\n",
    "A, b = create_prism_graph_matrix(n)\n",
    "display(Markdown(latex(A)[6:-7]))"
   ]
  },
  {
   "cell_type": "code",
   "execution_count": 13,
   "metadata": {
    "collapsed": false
   },
   "outputs": [],
   "source": [
    "def get_expected_moves(n):\n",
    "    A, b = create_prism_graph_matrix(n)\n",
    "    \n",
    "    # solve the matrix & make sure it's a real solution\n",
    "    x = A.augment(b).echelon_form()[:, -1]\n",
    "    assert(not any(A*x - b))\n",
    "\n",
    "    # finally, average among all the entries in the vector.\n",
    "    prediction = sum(x)[0] / (n*2)\n",
    "    return prediction\n"
   ]
  },
  {
   "cell_type": "code",
   "execution_count": 14,
   "metadata": {
    "collapsed": false
   },
   "outputs": [
    {
     "name": "stdout",
     "output_type": "stream",
     "text": [
      "The prediction is 393/38 which is about 10.342\n"
     ]
    }
   ],
   "source": [
    "prediction = get_expected_moves(5)\n",
    "print \"The prediction is {} which is about {:.3f}\".format(prediction, float(prediction))"
   ]
  },
  {
   "cell_type": "markdown",
   "metadata": {},
   "source": [
    "## A Chance to Check Your Work\n",
    "\n",
    "Neat! This is a small example. Can we verify it?\n",
    "\n",
    "Let's write a program that simulates this process a lot, and see if we find the same answer.\n",
    "\n",
    "The process is very similar to our triangle example. However, in this case, we'll think of the state as two terms. The first is where the dot is along the polygon, which as before we'll number from $0$ to $n-1$. The second is whether the dot is facing up or down, which we'll give the values `'u'` or `'d'` to. Then, each state is a pairing of some number with either up or down."
   ]
  },
  {
   "cell_type": "code",
   "execution_count": 6,
   "metadata": {
    "collapsed": false
   },
   "outputs": [
    {
     "name": "stdout",
     "output_type": "stream",
     "text": [
      "[(0, 'u'), (0, 'd'), (1, 'u'), (1, 'd'), (2, 'u'), (2, 'd'), (3, 'u'), (3, 'd'), (4, 'u'), (4, 'd')]\n"
     ]
    }
   ],
   "source": [
    "import itertools\n",
    "all_states = [i for i in itertools.product(\n",
    "    [0, 1, 2, 3, 4],\n",
    "    ['u', 'd']\n",
    ")]\n",
    "print all_states"
   ]
  },
  {
   "cell_type": "code",
   "execution_count": 7,
   "metadata": {
    "collapsed": false
   },
   "outputs": [
    {
     "name": "stdout",
     "output_type": "stream",
     "text": [
      "All good!\n"
     ]
    }
   ],
   "source": [
    "# What moves can we do?\n",
    "\n",
    "# We can rotate clockwise, which we'll say is adding one\n",
    "def rotate_cw(state):\n",
    "    n, side = state\n",
    "    return ((n+1) % 5, side)\n",
    "\n",
    "# We can rotate counterclockwise, which is subtracting one\n",
    "def rotate_ccw(state):\n",
    "    n, side = state\n",
    "    return ((n-1) % 5, side)\n",
    "\n",
    "# or we can flip\n",
    "def flip(state):\n",
    "    n, side = state\n",
    "    if side == 'u':\n",
    "        new_side = 'd'\n",
    "    elif side == 'd':\n",
    "        new_side = 'u'\n",
    "    else:\n",
    "        # when your code is broken, you want to know why.\n",
    "        raise ValueError('Side was neither u nor d.')\n",
    "    return (n, new_side)\n",
    "\n",
    "moves = [rotate_cw, rotate_ccw, flip]\n",
    "\n",
    "# Let's check them to make sure they work.\n",
    "assert( (3,'u') == rotate_cw( (2,'u') ))\n",
    "assert( (4,'d') == rotate_ccw( (0,'d') ))\n",
    "assert( (1,'u') == flip( (1,'d') ))\n",
    "\n",
    "print 'All good!'"
   ]
  },
  {
   "cell_type": "code",
   "execution_count": 12,
   "metadata": {
    "collapsed": false
   },
   "outputs": [
    {
     "name": "stdout",
     "output_type": "stream",
     "text": [
      "The predicted value is about 10.342, and the experimental value is 10.354\n"
     ]
    }
   ],
   "source": [
    "from random import choice # choice selects a random item from a given list.\n",
    "\n",
    "moves_in_each_trial = []\n",
    "# For a lot of trials:\n",
    "for _ in range(10000):\n",
    "    number_of_moves = 0\n",
    "    \n",
    "    # start at a random state\n",
    "    state = choice(all_states)\n",
    "    \n",
    "    # check if it's not the goal state\n",
    "    while state != (0, 'u'):\n",
    "        number_of_moves += 1\n",
    "        \n",
    "        # randomly select a move, and apply it.\n",
    "        random_move = choice(moves)\n",
    "        state = random_move(state)\n",
    "    \n",
    "    moves_in_each_trial.append(number_of_moves)\n",
    "    \n",
    "average = sum(moves_in_each_trial) / len(moves_in_each_trial)\n",
    "\n",
    "fmt_string = 'The predicted value is about {:.3f}, ' \\\n",
    "    'and the experimental value is {:.3f}'\n",
    "\n",
    "print fmt_string.format(float(prediction), float(average))"
   ]
  },
  {
   "cell_type": "markdown",
   "metadata": {},
   "source": [
    "With luck, we aren't too off. \n",
    "\n",
    "## Plotting Some Revenge\n",
    "\n",
    "Now, let's look at some other values, not just 5."
   ]
  },
  {
   "cell_type": "code",
   "execution_count": 31,
   "metadata": {
    "collapsed": false
   },
   "outputs": [
    {
     "name": "stdout",
     "output_type": "stream",
     "text": [
      "A polygon with 3 sides takes on average 47/10 moves\n",
      "A polygon with 4 sides takes on average 29/4 moves\n",
      "A polygon with 5 sides takes on average 393/38 moves\n",
      "A polygon with 6 sides takes on average 279/20 moves\n",
      "A polygon with 7 sides takes on average 2565/142 moves\n",
      "A polygon with 8 sides takes on average 635/28 moves\n",
      "A polygon with 9 sides takes on average 14731/530 moves\n",
      "A polygon with 10 sides takes on average 27931/836 moves\n",
      "A polygon with 11 sides takes on average 78183/1978 moves\n",
      "A polygon with 12 sides takes on average 11997/260 moves\n",
      "A polygon with 13 sides takes on average 393153/7382 moves\n",
      "A polygon with 14 sides takes on average 708821/11644 moves\n",
      "A polygon with 15 sides takes on average 380137/5510 moves\n",
      "A polygon with 16 sides takes on average 210779/2716 moves\n",
      "A polygon with 17 sides takes on average 8916627/102818 moves\n",
      "A polygon with 18 sides takes on average 1736019/18020 moves\n",
      "A polygon with 19 sides takes on average 40848927/383722 moves\n"
     ]
    }
   ],
   "source": [
    "move_counts = [(i, get_expected_moves(i)) for i in range(3, 20)]\n",
    "for i, m in move_counts:\n",
    "    print 'A polygon with {} sides takes on average {} moves'.format(i, m)"
   ]
  },
  {
   "cell_type": "markdown",
   "metadata": {},
   "source": [
    "Can you see a pattern? I don't. What if we tried plotting it?"
   ]
  },
  {
   "cell_type": "code",
   "execution_count": 32,
   "metadata": {
    "collapsed": false
   },
   "outputs": [
    {
     "data": {
      "image/png": "[encoded data removed]",
      "text/plain": [
       "Graphics object consisting of 1 graphics primitive"
      ]
     },
     "execution_count": 32,
     "metadata": {},
     "output_type": "execute_result"
    }
   ],
   "source": [
    "list_plot(move_counts)"
   ]
  },
  {
   "cell_type": "markdown",
   "metadata": {},
   "source": [
    "Well that looks pretty well-behaved. Maybe it's a polynomial of some sort? What if we tried to fit a polynomial curve to it?"
   ]
  },
  {
   "cell_type": "code",
   "execution_count": 33,
   "metadata": {
    "collapsed": false
   },
   "outputs": [
    {
     "name": "stdout",
     "output_type": "stream",
     "text": [
      "polynomial coefficients are [ 0.25002262  0.86434629 -0.22307807]\n"
     ]
    },
    {
     "data": {
      "image/png": "[encoded data removed]",
      "text/plain": [
       "Graphics object consisting of 1 graphics primitive"
      ]
     },
     "metadata": {},
     "output_type": "display_data"
    }
   ],
   "source": [
    "import numpy as np\n",
    "\n",
    "# make move counts a lot bigger\n",
    "move_counts = [(i, get_expected_moves(i)) for i in range(3, 60)]\n",
    "\n",
    "def plot_error(move_counts):\n",
    "    xs, ys = zip(*move_counts)\n",
    "    p = np.polyfit(xs, ys, 2)\n",
    "    print 'polynomial coefficients are', p\n",
    "    errors = zip(xs, np.polyval(p, xs) - ys)\n",
    "    return list_plot(errors)\n",
    "\n",
    "show(plot_error(move_counts))"
   ]
  },
  {
   "cell_type": "markdown",
   "metadata": {},
   "source": [
    "Huh. Well, that's interesting. We're off by a lot right at the beginning but it gets a lot better over time. What if we try to fit just the later terms?"
   ]
  },
  {
   "cell_type": "code",
   "execution_count": 34,
   "metadata": {
    "collapsed": false
   },
   "outputs": [
    {
     "name": "stdout",
     "output_type": "stream",
     "text": [
      "polynomial coefficients are [ 0.25       0.8660254 -0.25     ]\n"
     ]
    },
    {
     "data": {
      "image/png": "[encoded data removed]",
      "text/plain": [
       "Graphics object consisting of 1 graphics primitive"
      ]
     },
     "metadata": {},
     "output_type": "display_data"
    }
   ],
   "source": [
    "show(plot_error(move_counts[-40:]))"
   ]
  },
  {
   "cell_type": "markdown",
   "metadata": {},
   "source": [
    "We get a similar pattern for the later terms too, but the error is much, much less. Maybe that means there's an exponential function term?\n",
    "\n",
    "To see the other things I tried while fitting a function to the data, see the i_tried_some_plotting notebook [todo add link]\n",
    "\n",
    "Also, look at the values we got in the function fit. Two of them are really nice! There's probably something going on behind the scenes that actually uses those coeffecient polynomials. I wonder what the third term is... it's not a number I recognize, and it doesn't seem to be a rational number... is it a square root?"
   ]
  },
  {
   "cell_type": "code",
   "execution_count": 35,
   "metadata": {
    "collapsed": false
   },
   "outputs": [
    {
     "data": {
      "text/plain": [
       "0.749999993445160"
      ]
     },
     "execution_count": 35,
     "metadata": {},
     "output_type": "execute_result"
    }
   ],
   "source": [
    "0.8660254^2"
   ]
  },
  {
   "cell_type": "markdown",
   "metadata": {},
   "source": [
    "Wow! That's obnoxiously close to $\\frac{3}{4}$. That means our polynomial is something super close to\n",
    "\n",
    "$$ \\frac{1}{4} x^2 + \\frac{\\sqrt{3}}{2} x -\\frac{1}{4} $$\n",
    "\n",
    "or written another way,\n",
    "\n",
    "$$ \\frac{x^2 + 2\\sqrt{3}x - 1}{4} $$"
   ]
  },
  {
   "cell_type": "markdown",
   "metadata": {},
   "source": [
    "## Opening the Closed Form\n",
    "\n",
    "This part was tantalyzingly close to a result. In fact, it's exponentially close. \n",
    "\n",
    "But I had no idea how to continue - only my different function fits and a little bit of intuition. So I asked for help through [this math stackexchage question](https://math.stackexchange.com/questions/2833028/random-walk-on-a-prism-graph-of-n-sides-plus-some-curve-fitting), and the answer came with credit to 'joriki'. I include the results below, with minor editing."
   ]
  },
  {
   "cell_type": "markdown",
   "metadata": {},
   "source": [
    "### The $\\frac{n^2 - 1}{4}$ comes from the cycle...\n",
    "A prism graph $Y_n$ of $n$ sides is the Cartesian product of a cycle graph $C_n$ with a path graph $P_2$. Let's label the vertices of $P_2$ by $\\uparrow$ and $\\downarrow$ and the vertices of $C_n$ by $0$ to $n−1$, and assume (without loss of generality) that your target vertex is $(0,\\uparrow)$.\n",
    "\n",
    "We can divide every sequence of steps into groups consisting of one step along $C_n$ preceded by any number of up or down steps along $P_2$. The random walk on G thus induces a random walk on $C_n$.\n",
    "\n",
    "Denote the expected number of steps on $Y_n$ per step on $C_n$ by $x$. To take a step on $Y_n$ we need $1$ step on $C_n$ with probability $\\frac{2}{3}$ and $1+x$ steps on $C_n$ with probability $\\frac{1}{3}$, so $x = \\frac{2}{3} + \\frac{1}{3}(1+x)$, so $x=\\frac{3}{2}$. So on average each step on $C_n$ takes $\\frac{3}{2}$ steps on $Y_n$.\n",
    "\n",
    "To get to your target, you first of all need to get to $0$ on $C_n$, ignoring for now where you are on $P_2$. It's a well-known result that the expected number of steps to reach vertex $0$ in a random walk on $C_n$ starting from $k$ is $k(n−k)$. Your initial $k$ is uniformly distributed, so this yields an expected\n",
    "\n",
    "$$\\frac{1}{n} \\sum_{k=0}^{n-1} k(n-1) = \\frac{n^2-1}{6}$$\n",
    "\n",
    "steps on $C_n$. By linearity of expectation, we can scale this up by the factor $\\frac{3}{2}$ to get the expected number of steps on $Y_n$, $\\frac{n^2 - 1}{4}$. That explains one half of your result."
   ]
  },
  {
   "cell_type": "markdown",
   "metadata": {},
   "source": [
    "### ... and the $\\frac{\\sqrt{3}}{2}$ comes from the path.\n",
    "\n",
    "Now we're at $0$ on $C_n$. We started out with a uniform distribution on $P_2$, which is invariant under the random walk, so we still have a uniform distribution on $P_2$. Thus, with probability $\\frac{1}{2}$ we're done, and with probability $\\frac{1}{2}$ we still have to get from $(0,\\downarrow)$ to $(0,\\uparrow)$.\n",
    "\n",
    "Let $L$ denote the expected length of the walk from $(0,\\downarrow)$ to $(0,\\uparrow)$, and think of this walk as a sequence of attempts, each of which succeeds if it reaches $(0,\\uparrow)$ and fails if it returns to $(0,\\downarrow)$. With probability $\\frac{1}{3}$, we immediately succeed. With probability $\\frac{2}{3}$, we go to one of the other two neigbours of $(0,\\downarrow)$. Then we have to take another random walk on $C_n$ until we get back to $0$. That takes us $n−1$ steps on $C_n$, and thus $\\frac{3}{2}(n−1)$ steps on $Y_n$. Adding the 1 step we take in either case yields a total of $1+\\frac{2}{3}\\cdot \\frac{3}{2}(n−1) = n$ expected steps so far.\n",
    "\n",
    "Now we need the probability for returning to $(0,\\downarrow)$ instead of reaching $(0,\\uparrow)$. With every step we take on $C_n$, we have a probability $\\frac{1}{4}$ of switching sides on $P_2$ beforehand. Thus our initial probability of being on $\\downarrow$ decays towards $\\frac{1}{2}$ as $\\frac{1}{2}+\\frac{1}{2}(\\frac{1}{2})^j$ when we take $j$ steps on $C_n$."
   ]
  },
  {
   "cell_type": "markdown",
   "metadata": {},
   "source": [
    "Here comes the part where we disregard terms that decay exponentially with nn. We'll sum the decaying part of this probability as if CnCn were infinite and we couldn't wrap around to the origin. That introduces an error of order 2−n2−n, since the probability has decayed by at least that much before we wrap around.\n",
    "\n",
    "Now we just have to count the paths that lead from 11 to 00 and sum over the corresponding powers of 12⋅12=1412⋅12=14 (where one factor comes from the probability of going right or left and the other factor comes from the exponential decay in the probability.) The number of paths starting at 11 that hit 00 for the first time after 2j+12j+1 steps is CjCj, the jj-th Catalan number. (The notational confusion due to the fact that both the cycle graphs and the Catalan numbers are conventionally denoted by CC shouldn't be too great, as they appear in quite different contexts.) Thus the probability to return to (0,↓)(0,↓) is\n",
    "\n",
    "12+12∑j=0∞4−(2j+1)Cj.\n",
    "12+12∑j=0∞4−(2j+1)Cj.\n",
    "The series is 1414 times the generating function of the Catalan numbers, evaluated at 116116. The generating function of the Catalan numbers can be shown to be\n",
    "\n",
    "∑n=0∞Cnxn=1−1−4x‾‾‾‾‾‾√2x.\n",
    "∑n=0∞Cnxn=1−1−4x2x.\n",
    "Thus, with probability\n",
    "\n",
    "12+18⋅1−1−4⋅116‾‾‾‾‾‾‾‾‾√2⋅116=3−3‾√2\n",
    "12+18⋅1−1−4⋅1162⋅116=3−32\n",
    "we return to (0,↓)(0,↓) and have to try again, taking another expected LL steps. That yields a linear equation for LL,\n",
    "\n",
    "L=n+23⋅3−3‾√2⋅L=n+(1−13‾√)L,\n",
    "L=n+23⋅3−32⋅L=n+(1−13)L,\n",
    "with solution L=3‾√nL=3n. Since the probability of getting to (0,↓)(0,↓) in the first place was 1212, this yields the additional term 3√2n32n in your result.\n",
    "\n"
   ]
  },
  {
   "cell_type": "markdown",
   "metadata": {},
   "source": [
    "I followed up with some questions, and this comment was particularly enlightening:\n",
    "\n",
    "> To answer your question more precisely: The error is related to wrapping around and still having a trace of the bias of starting at $\\downarrow$ left. It's not that unlikely to wrap around, but by the time you do, the term that describes the deviation of the distribution on $P_2$ from the uniform distribution has decayed exponentially. The possibility of wrapping around itself is taken care of exactly in the expected $n−1$ steps to get from $1$ to $0$, which include paths that wrap around; what's disregarded is that these would still have a tiny bias towards $\\downarrow$."
   ]
  },
  {
   "cell_type": "markdown",
   "metadata": {},
   "source": [
    "In short, if it was possible to find a more accurate value for the length of the expected walk from $(1, \\downarrow)$ to $(0, \\uparrow)$, then we'd have a better solution. Where do the Catalan numbers go wrong? Or more to the point, what do they have to do with this problem at all?"
   ]
  },
  {
   "cell_type": "markdown",
   "metadata": {},
   "source": [
    "## Cycling Back Around\n",
    "\n",
    "I was confused why the Catalan numbers were involved in joriki's answer. What were they, and what did they have to do with this problem?\n",
    "\n",
    "As joriki said,\n",
    "> The number of paths starting at $1$ that hit $0$ for the first time after $2j+1$ steps is $C_j$, the $j$-th Catalan number."
   ]
  },
  {
   "cell_type": "markdown",
   "metadata": {},
   "source": [
    "Here, I propose a good way to visualize it. Consider a table of numbers, where each row represents a vertex and each column represents a moment in time. The number of paths that one can take to reach a particular vertex after a certain number of moves is the sum of the difference sources that lead to a particular point.\n",
    "\n",
    "\\begin{array}{c|ccccc}\n",
    "0 &  & 1 &  & 1 &  & 2 &  & 5 &  & 14 \\\\\n",
    "\\hline \n",
    "1 & 1 &  & 1 &  & 2 &  & 5 &  & 14 & & \\dots \\\\\n",
    "2 &  & 1 &  & 2 &  & 5 &  & 14 &  & 42  \\\\\n",
    "3 &  &  & 1 &  & 3 &  & 9 &  & 28 &  & \\dots \\\\\n",
    "4 &  &  &  & 1 &  & 4 &  & 14 &  & 47  \\\\\n",
    "5 &  &  &  &  & 1 &  & 5 &  & 20 &  & \\dots \\\\\n",
    "6 &  &  &  &  &  & 1 &  & 6 &  & 27  \\\\\n",
    "7 &  &  &  &  &  &  & 1 &  & 7 &  & \\dots\\\\\n",
    "\\vdots & & & & & & & & \\ddots & & \\ddots\n",
    "\\end{array}\n",
    "\n",
    "For example, the 9 in the 3rd row comes from the fact there are 4 paths to the fourth row at that time, and each of them could move back up one and be unique, and there are 5 paths to the second row at that time, and each of them could move down and be unique.\n",
    "\n",
    "Note that the top row -- $1, 1, 2, 5, 14, 42... $ -- is the Catalan numbers."
   ]
  },
  {
   "cell_type": "markdown",
   "metadata": {},
   "source": [
    "But the difference is that we don't know how many walks exit at each moment if it's a cycle, not an infinite path. As is always a good idea, start with a few small examples. In order to draw this, we just need to add in a bottom row with 0 as well. Let's start with $n=3$, a triangle.\n",
    "\n",
    "\\begin{array}{c|ccccc}\n",
    "0 &  & 1 &  & 1 &  & 1  \\\\\n",
    "\\hline \n",
    "1 & 1 &  & 1 &  & 1 &  & 1  \\dots \\\\\n",
    "2 &  & 1 &  & 1 &  & 1   \\\\\n",
    "\\hline\n",
    "0 &  &  & 1 &  & 1 &  & 1 \\dots \\\\\n",
    "\\end{array}\n",
    "\n",
    "That's not very exciting. How about larger values? What does $n=7$ look like?\n",
    "\n",
    "\\begin{array}{c|cccccccccccccc}\n",
    "0 &  & 1 &  & 1 &  & 2 &  & 5 &  & 14 &  & 42 &  & 131 \\\\\n",
    "\\hline \n",
    "1 & 1 &  & 1 &  & 2 &  & 5 &  & 14 &  & 42 &  & 131 & \\\\\n",
    "2 &  & 1 &  & 2 &  & 5 &  & 14 &  & 42 &  & 131 &  & 417 \\\\\n",
    "3 &  &  & 1 &  & 3 &  & 9 &  & 28 &  & 89 &  & 286 & \\\\\n",
    "4 &  &  &  & 1 &  & 4 &  & 14 &  & 47 &  & 155 &  & 507 \\\\\n",
    "5 &  &  &  &  & 1 &  & 5 &  & 19 &  & 66 &  & 221 & \\\\\n",
    "6 &  &  &  &  &  & 1 &  & 5 &  & 19 &  & 66 &  & 221 \\\\\n",
    "\\hline \n",
    "0 &  &  &  &  &  &  & 1 &  & 5 &  & 19 &  & 66 & \\\\\n",
    "\\end{array}"
   ]
  },
  {
   "cell_type": "markdown",
   "metadata": {},
   "source": [
    "Is there some pattern to these things? Well, there doesn't seem to be any obvious one. Nevertheless, I popped it into OEIS and found [A096976 - Number of walks of length $x$ on $P_3$ plus a loop at the end](http://oeis.org/A096976). It had a nice linear recurrence: $a(x) = a(x-1) + 2a(x-2) - a(x-3)$. Did the other ones have a good recurrence, too? So far, they did.\n",
    "\n",
    "\\begin{array} &\n",
    " n=3, & a(x) = a(x-1) \\\\\n",
    " n=4, & a(x) = 2a(x-2) \\\\\n",
    " n=5, & a(x) = a(x-1) + a(x-2) \\\\\n",
    " n=6, & a(x) = 3a(x-2) \\\\\n",
    " n=7, & a(x) = a(x-1) + 2a(x-2) - a(x-3) \\\\\n",
    "\\end{array}\n",
    "\n",
    "Was there a pattern in the recurrences? I hadn't seen one yet, but that didn't stop me from wanting to calculate more and dumping the sequence into OEIS."
   ]
  },
  {
   "cell_type": "markdown",
   "metadata": {},
   "source": [
    "## Calculating Recurrences\n",
    "\n",
    "some code that calculated the recurrences for me.\n",
    "then an output table\n",
    "\n",
    "oh look, even vs. odd is different.\n",
    "\n",
    "i found this trianlge but it's weird and i don't understand it or how to produce it."
   ]
  },
  {
   "cell_type": "markdown",
   "metadata": {},
   "source": [
    "But right around this time in my thought process, the idea generating functions took root.\n",
    "\n",
    "## Detour into Generating Functions\n",
    "\n",
    "A generating function is...\n",
    "\n",
    "It's cool because usually if you're doing something with an infinite number of terms you're doing something that gets exponentially less likely. which is totally what I'm doing in this case - there's the elss probability each time.\n",
    "\n",
    "what were the generating functions of those sequences?\n",
    "\n",
    "well n = 3 is 1/(1-x)\n",
    "and n = 5 is...\n",
    "\n",
    "but now is tehre some way to manage the polynomials... well it appears so! remember that triangle - it matches the generating polynomails spot-on!\n",
    "\n",
    "ok, well now let's return to the question at hand"
   ]
  },
  {
   "cell_type": "markdown",
   "metadata": {},
   "source": [
    "## So Close And Yet So Far: $\\mathbb{E}(L_{(1,\\downarrow)})$"
   ]
  },
  {
   "cell_type": "markdown",
   "metadata": {},
   "source": [
    "So what we have here is the number of moves $\\mathbb{E}(L_{(1,\\downarrow)})$. How do we begin to think about it and break it apart?\n",
    "\n",
    "Well, following joriki's lead, let's think about it as a combination of the number\n",
    "of moves on a complete graph $C_n$ and the number of moves on that\n",
    "small path $P_2$. It feels like all we want to know - i.e, the probability of a certain path occuring, how many moves were\n",
    "taken, and how often that walk ends up at $(0, \\downarrow)$ as opposed to $(0, \\uparrow)$ - can be expressed in terms of a certain number of moves on each graph.\n",
    "\n",
    "The relation is as follows:\n",
    "\n",
    "$$ \\mathbb{E}(L_{(1,\\downarrow)}) = \\sum_{\\ell_{C}=1}^{\\infty} \\sum_{f=0}^{\\infty} P(\\ell_{C},f) (\\ell_{C}+f+\\frac{1+(-1)^{f}}{2}\\mathbb{E}(L_{(0,\\downarrow)})) $$\n",
    "\n",
    "\n",
    "The number of moves is the sum of bunch of cases, each weighted by their probability. The values $\\ell_{C}$ and $f$ can be infinite, but they are weighted by some probability function $P(\\ell_{C},f)$. Then, for each case of $\\ell_C$ and $f$, you count the number of moves. In turn, the number of moves is the sum of moves on the cycle ($\\ell_{C}$), flips between the cycles ($f$), and whether we end up at $(0, \\downarrow)$ again (which is 1 for $f$ even, 0 for $f$ odd) times the number of moves we expect to make from $(0, \\downarrow)$.\n",
    "\n"
   ]
  },
  {
   "cell_type": "markdown",
   "metadata": {},
   "source": [
    "Now $\\mathbb{E}(L_{(0,\\downarrow)})$ is a much simpler function of $\\mathbb{E}(L_{(1,\\downarrow)})$. In the case we're at $(0,\\downarrow)$, we certainly must take one step. We also have a one-third chance we walk immediately to $(0,\\uparrow)$, a one-third chance we walk to $(1,\\downarrow)$, and another third we walk to $(n-1,\\downarrow)$. Because of the graph's symmetry, $\\mathbb{E}(L_{(1,\\downarrow)}) = \\mathbb{E}(L_{(n-1,\\downarrow)})$, and so we can write $\\mathbb{E}(L_{(0,\\downarrow)})$ in terms of $\\mathbb{E}(L_{(1,\\downarrow)})$ as follows:\n",
    "\n",
    "$$\\mathbb{E}(L_{(0,\\downarrow)}) = 1 + \\frac{2}{3} \\mathbb{E}(L_{(1,\\downarrow)})$$"
   ]
  },
  {
   "cell_type": "markdown",
   "metadata": {},
   "source": [
    "### Summing over $f$\n",
    "\n",
    "Let's now start to break this up. Can we focus on the sum with $f$\n",
    "first? Let's try to understand the probability $P(\\ell_{C},f)$ breaks\n",
    "down, first converting it to $P(\\ell_{C})\\cdot P(f|\\ell_{C})$. We\n",
    "have some function for $P(\\ell_{C})$, namely, the series in question\n",
    "$S_{n}$ times some exponent of $\\frac{1}{2}$. But what is $P(f|\\ell_{C})$?\n",
    "\n",
    "{[}digression about N successes given M chances to fail{]}. In short,\n",
    "$P(f|\\ell_{C})={f+\\ell_{C}-1 \\choose \\ell_{C}-1}(\\frac{1}{3})^{f}(\\frac{2}{3})^{\\ell_{C}}$.\n",
    "\n",
    "We now have\n",
    "\\begin{alignat*}{1}\n",
    "M_{1}= & \\sum_{\\ell_{C}=1}^{\\infty}\\sum_{f=0}^{\\infty}P(\\ell_{C},f)(\\ell_{C}+f+\\frac{1+(-1)^{f}}{2}M_{0})\\\\\n",
    "= & \\sum_{\\ell_{C}=1}^{\\infty}\\sum_{f=0}^{\\infty}P(\\ell_{C})P(f|\\ell_{C})(\\ell_{C}+f+\\frac{1+(-1)^{f}}{2}M_{0})\\\\\n",
    "= & \\sum_{\\ell_{C}=1}^{\\infty}P(\\ell_{C})\\sum_{f=0}^{\\infty}P(f|\\ell_{C})(\\ell_{C}+f+\\frac{1+(-1)^{f}}{2}M_{0})\\\\\n",
    "= & \\sum_{\\ell_{C}=1}^{\\infty}S_{\\ell_{C}}(\\frac{1}{2})^{\\ell_{C}}\\sum_{f=0}^{\\infty}{f+\\ell_{C}-1 \\choose \\ell_{C}-1}(\\frac{1}{3})^{f}(\\frac{2}{3})^{\\ell_{C}}(\\ell_{C}+f+\\frac{1+(-1)^{f}}{2}M_{0})\\\\\n",
    "F(\\ell_{C})= & \\sum_{f=0}^{\\infty}{f+\\ell_{C}-1 \\choose \\ell_{C}-1}(\\frac{1}{3})^{f}(\\frac{2}{3})^{\\ell_{C}}(\\ell_{C}+f+\\frac{1+(-1)^{f}}{2}M_{0})\\\\\n",
    "= & \\sum_{f=0}^{\\infty}{f+\\ell_{C}-1 \\choose \\ell_{C}-1}(\\ell_{C})(\\frac{1}{3})^{f}(\\frac{2}{3})^{\\ell_{C}}\\\\\n",
    " & +\\sum_{f=0}^{\\infty}{f+\\ell_{C}-1 \\choose \\ell_{C}-1}(f)(\\frac{1}{3})^{f}(\\frac{2}{3})^{\\ell_{C}}\\\\\n",
    " & +M_{0}\\sum_{f=0}^{\\infty}{f+\\ell_{C}-1 \\choose \\ell_{C}-1}\\frac{1+(-1)^{f}}{2}(\\frac{1}{3})^{f}(\\frac{2}{3})^{\\ell_{C}}\\\\\n",
    "= & F_{1}(\\ell_{C})+F_{2}(\\ell_{C})+F_{3}(\\ell_{C})\\\\\n",
    "F_{1}(\\ell_{C})= & (\\ell_{C})\\sum_{f=0}^{\\infty}{f+\\ell_{C}-1 \\choose \\ell_{C}-1}(\\frac{1}{3})^{f}(\\frac{2}{3})^{\\ell_{C}}\\\\\n",
    "= & \\ell_{C}\n",
    "\\end{alignat*}"
   ]
  },
  {
   "cell_type": "code",
   "execution_count": 136,
   "metadata": {
    "collapsed": false
   },
   "outputs": [
    {
     "name": "stdout",
     "output_type": "stream",
     "text": [
      "((sqrt(2)*x/sqrt(sqrt(2*x + 1)*sqrt(-2*x + 1) + 1))^r + sqrt(1/2*sqrt(-4*x^2 + 1) + 1/2)^r)/(sqrt(2)*x/sqrt(sqrt(2*x + 1)*sqrt(-2*x + 1) + 1) + sqrt(1/2*sqrt(-4*x^2 + 1) + 1/2))\n"
     ]
    }
   ],
   "source": [
    "var(\"u v x r n\")\n",
    "\n",
    "equations = [\n",
    "    u^2+v^2==1,\n",
    "    u*v==x\n",
    "]\n",
    "solutions = solve(equations, u, v)\n",
    "u_eqn, v_eqn = solutions[1] # it's the one where both are positive\n",
    "\n",
    "G_p = ((u^r+v^r) / (u+v)).subs(u_eqn, v_eqn)\n",
    "\n",
    "print G_p\n",
    "\n",
    "G_S = x * G_p.subs(r=n-2) / G_p.subs(r=n)"
   ]
  },
  {
   "cell_type": "markdown",
   "metadata": {},
   "source": [
    "$$M_{1}=\tM_{a}+M_{b}+M_{c}\n",
    "=\t\\frac{3}{2}(\\frac{1}{2})G_{S}^{\\prime}(\\frac{1}{2})+\\frac{1}{2}M_{0}\\Big(G_{S}(\\frac{1}{4})-S_{0}\\Big)+\\frac{1}{2}M_{0}\\Big(G_{S}(\\frac{1}{2})-S_{0}\\Big)$$\n",
    " "
   ]
  },
  {
   "cell_type": "code",
   "execution_count": 139,
   "metadata": {
    "collapsed": false
   },
   "outputs": [
    {
     "data": {
      "text/plain": [
       "[[M_0 == (4131/265), M_1 == (5799/265)]]"
      ]
     },
     "execution_count": 139,
     "metadata": {},
     "output_type": "execute_result"
    }
   ],
   "source": [
    "var('M_0 M_1')\n",
    "\n",
    "G_canon = G_S(n=9).canonicalize_radical()\n",
    "\n",
    "eq1 = M_1 == (3/2)*(1/2)*derivative(G_canon).subs(x=1/2) \\\n",
    "    + (1/2)*M_0*(G_canon(x=1/4)) \\\n",
    "    + (1/2)*M_0*(G_canon(x=1/2))\n",
    "    \n",
    "solve([eq1, M_0 == 1 + (2/3)*M_1], M_0, M_1)"
   ]
  },
  {
   "cell_type": "code",
   "execution_count": 147,
   "metadata": {
    "collapsed": false
   },
   "outputs": [
    {
     "data": {
      "text/markdown": [
       "$$ \\frac{x^{4} - 2 \\, x^{3} - x^{2} + x}{x^{4} + 2 \\, x^{3} - 3 \\, x^{2} - x + 1} $$"
      ],
      "text/plain": [
       "<IPython.core.display.Markdown object>"
      ]
     },
     "metadata": {},
     "output_type": "display_data"
    }
   ],
   "source": [
    "from IPython.display import display, Markdown, Latex\n",
    "\n",
    "display(Markdown('$$' + latex(G_canon) + '$$'))"
   ]
  },
  {
   "cell_type": "code",
   "execution_count": null,
   "metadata": {
    "collapsed": true
   },
   "outputs": [],
   "source": []
  },
  {
   "cell_type": "markdown",
   "metadata": {},
   "source": [
    "# IGNORE EVERYTHING THIS IS JUST FOR REFERENCE"
   ]
  },
  {
   "cell_type": "code",
   "execution_count": null,
   "metadata": {
    "collapsed": true
   },
   "outputs": [],
   "source": []
  },
  {
   "cell_type": "markdown",
   "metadata": {},
   "source": []
  },
  {
   "cell_type": "markdown",
   "metadata": {},
   "source": [
    "Let's now start to break this up. Can we focus on the sum with $f$\n",
    "first? Let's try to understand the probability $P(\\ell_{C},f)$ breaks\n",
    "down, first converting it to $P(\\ell_{C})\\cdot P(f|\\ell_{C})$. We\n",
    "have some function for $P(\\ell_{C})$, namely, the series in question\n",
    "$S_{n}$ times some exponent of $\\frac{1}{2}$. But what is $P(f|\\ell_{C})$?\n",
    "\n",
    "{[}digression about N successes given M chances to fail{]}. In short,\n",
    "$P(f|\\ell_{C})={f+\\ell_{C}-1 \\choose \\ell_{C}-1}(\\frac{1}{3})^{f}(\\frac{2}{3})^{\\ell_{C}}$.\n",
    "\n",
    "We now have\n",
    "\\begin{alignat*}{1}\n",
    "M_{1}= & \\sum_{\\ell_{C}=1}^{\\infty}\\sum_{f=0}^{\\infty}P(\\ell_{C},f)(\\ell_{C}+f+\\frac{1+(-1)^{f}}{2}M_{0})\\\\\n",
    "= & \\sum_{\\ell_{C}=1}^{\\infty}\\sum_{f=0}^{\\infty}P(\\ell_{C})P(f|\\ell_{C})(\\ell_{C}+f+\\frac{1+(-1)^{f}}{2}M_{0})\\\\\n",
    "= & \\sum_{\\ell_{C}=1}^{\\infty}P(\\ell_{C})\\sum_{f=0}^{\\infty}P(f|\\ell_{C})(\\ell_{C}+f+\\frac{1+(-1)^{f}}{2}M_{0})\\\\\n",
    "= & \\sum_{\\ell_{C}=1}^{\\infty}S_{\\ell_{C}}(\\frac{1}{2})^{\\ell_{C}}\\sum_{f=0}^{\\infty}{f+\\ell_{C}-1 \\choose \\ell_{C}-1}(\\frac{1}{3})^{f}(\\frac{2}{3})^{\\ell_{C}}(\\ell_{C}+f+\\frac{1+(-1)^{f}}{2}M_{0})\\\\\n",
    "F(\\ell_{C})= & \\sum_{f=0}^{\\infty}{f+\\ell_{C}-1 \\choose \\ell_{C}-1}(\\frac{1}{3})^{f}(\\frac{2}{3})^{\\ell_{C}}(\\ell_{C}+f+\\frac{1+(-1)^{f}}{2}M_{0})\\\\\n",
    "= & \\sum_{f=0}^{\\infty}{f+\\ell_{C}-1 \\choose \\ell_{C}-1}(\\ell_{C})(\\frac{1}{3})^{f}(\\frac{2}{3})^{\\ell_{C}}\\\\\n",
    " & +\\sum_{f=0}^{\\infty}{f+\\ell_{C}-1 \\choose \\ell_{C}-1}(f)(\\frac{1}{3})^{f}(\\frac{2}{3})^{\\ell_{C}}\\\\\n",
    " & +M_{0}\\sum_{f=0}^{\\infty}{f+\\ell_{C}-1 \\choose \\ell_{C}-1}\\frac{1+(-1)^{f}}{2}(\\frac{1}{3})^{f}(\\frac{2}{3})^{\\ell_{C}}\\\\\n",
    "= & F_{1}(\\ell_{C})+F_{2}(\\ell_{C})+F_{3}(\\ell_{C})\\\\\n",
    "F_{1}(\\ell_{C})= & (\\ell_{C})\\sum_{f=0}^{\\infty}{f+\\ell_{C}-1 \\choose \\ell_{C}-1}(\\frac{1}{3})^{f}(\\frac{2}{3})^{\\ell_{C}}\\\\\n",
    "= & \\ell_{C}\n",
    "\\end{alignat*}"
   ]
  },
  {
   "cell_type": "markdown",
   "metadata": {},
   "source": [
    "Noting that the big factor there is only 1 because it's a probability\n",
    "distribution. {[}todo: change the placement of it{]}. However, $F_{2}$\n",
    "is a little more intersting.\n",
    "\n",
    "\\begin{alignat*}{1}\n",
    "F_{2}(\\ell_{C})= & \\sum_{f=0}^{\\infty}{f+\\ell_{C}-1 \\choose \\ell_{C}-1}(f)(\\frac{1}{3})^{f}(\\frac{2}{3})^{\\ell_{C}}\\\\\n",
    "= & (\\frac{2}{3})^{\\ell_{C}}\\sum_{f=0}^{\\infty}{f+\\ell_{C}-1 \\choose \\ell_{C}-1}(f)(\\frac{1}{3})^{f}\n",
    "\\end{alignat*}\n",
    "\n",
    "\n",
    "Noting that: \n",
    "\\[\n",
    "\\sum_{n=k}^{\\infty}{n \\choose k}(n-k)x^{n-k}=\\frac{(k+1)x}{(1-x)^{k}(x-1)^{2}}\n",
    "\\]\n",
    "\n",
    "\n",
    "a la wolfram alhpa, therefore ite must be true.\n",
    "\n",
    "Observing that we have $n=f+\\ell_{C}-1$, $k=\\ell_{C}-1$, and $x=\\frac{1}{3}$,\n",
    "we can rewrite\n",
    "\\begin{alignat*}{1}\n",
    "F_{2}(\\ell_{C})= & (\\frac{2}{3})^{\\ell_{C}}\\sum_{f=0}^{\\infty}{f+\\ell_{C}-1 \\choose \\ell_{C}-1}(f)(\\frac{1}{3})^{f}\\\\\n",
    "= & (\\frac{2}{3})^{\\ell_{C}}\\frac{(\\ell_{C}-1+1)(\\frac{1}{3})}{(1-(\\frac{1}{3})^{\\ell_{C}-1}(\\frac{1}{3}-1)^{2}}\\\\\n",
    "= & (\\frac{2}{3})^{\\ell_{C}}\\frac{(\\ell_{C})(\\frac{1}{3})}{(\\frac{2}{3})^{\\ell_{C}-1}(\\frac{-2}{3})^{2}}\\\\\n",
    "= & (\\frac{1}{3})(\\frac{2}{3})^{\\ell_{C}}\\frac{\\ell_{C}}{(\\frac{2}{3})^{\\ell_{C}-1}(\\frac{-2}{3})^{2}}\\\\\n",
    "= & (\\ell_{C})(\\frac{1}{3})(\\frac{2}{3})^{\\ell_{C}}(\\frac{2}{3})^{1-2-\\ell_{C}}\\\\\n",
    "= & (\\ell_{C})(\\frac{1}{3})(\\frac{2}{3})^{-1}\\\\\n",
    "= & \\frac{1}{2}\\ell_{C}\n",
    "\\end{alignat*}\n",
    "\n",
    "\n",
    "wow that simplified... a lot."
   ]
  },
  {
   "cell_type": "markdown",
   "metadata": {},
   "source": [
    "now note that for f odd, the expression is 0, so rewrite...\n",
    "\n",
    "\\begin{alignat*}{1}\n",
    "F_{3}(\\ell_{C})= & M_{0}\\sum_{f=0}^{\\infty}{f+\\ell_{C}-1 \\choose \\ell_{C}-1}\\frac{1+(-1)^{f}}{2}(\\frac{1}{3})^{f}(\\frac{2}{3})^{\\ell_{C}}\\\\\n",
    "= & M_{0}(\\frac{2}{3})^{\\ell_{C}}\\sum_{f=0}^{\\infty}{2f+\\ell_{C}-1 \\choose \\ell_{C}-1}(\\frac{1}{3})^{2f}\\\\\n",
    "= & M_{0}(\\frac{2}{3})^{\\ell_{C}}\\sum_{f=0}^{\\infty}{2f+\\ell_{C}-1 \\choose \\ell_{C}-1}(\\frac{1}{3})^{2f}\n",
    "\\end{alignat*}\n",
    "\n",
    "\n",
    "and now Wolfram Alpha says that\n",
    "\n",
    "$$\\sum_{f=0}^{\\infty}{2f+k \\choose k}x^{2f}=\\frac{(1-x)^{k+1}+(x+1)^{k+1}}{2(1-x)^{k+1}(x+1)^{k+1}}$$\n",
    "\n",
    "\n",
    "and noting we have $f=f,$$k=\\ell_{C}-1$, and $x=\\frac{1}{3}$,therefore\n",
    "\\begin{alignat*}{1}\n",
    "F_{3}(\\ell_{C})= & M_{0}(\\frac{2}{3})^{\\ell_{C}}\\sum_{f=0}^{\\infty}{2f+\\ell_{C}-1 \\choose \\ell_{C}-1}(\\frac{1}{3})^{2f}\\\\\n",
    "= & M_{0}(\\frac{2}{3})^{\\ell_{C}}\\frac{(1-\\frac{1}{3})^{\\ell_{C}-1+1}+(\\frac{1}{3}+1)^{\\ell_{C}+1}}{2(1-\\frac{1}{3})^{\\ell_{C}-1+1}(\\frac{1}{3}+1)^{\\ell_{C}+1}}\\\\\n",
    "= & 2M_{0}(\\frac{2}{3})^{\\ell_{C}}\\frac{(\\frac{2}{3})^{\\ell_{C}}+(\\frac{4}{3})^{\\ell_{C}}}{(\\frac{2}{3})^{\\ell_{C}}(\\frac{4}{3})^{\\ell_{C}}}\\\\\n",
    "= & 2M_{0}\\Big(\\frac{(\\frac{2}{3})^{\\ell_{C}}}{(\\frac{4}{3})^{\\ell_{C}}}+1\\Big)\\\\\n",
    "= & 2M_{0}\\Big((\\frac{1}{2})^{\\ell_{C}}+1\\Big)\\\\\n",
    "= & 2M_{0}(\\frac{1}{2})^{\\ell_{C}}+2M_{0}\n",
    "\\end{alignat*}"
   ]
  },
  {
   "cell_type": "markdown",
   "metadata": {},
   "source": [
    "\n",
    "\n",
    "Returning to the original equation, we have\n",
    "\n",
    "\\begin{alignat*}{1}\n",
    "F(\\ell_{C})= & F_{1}(\\ell_{C})+F_{2}(\\ell_{C})+F_{3}(\\ell_{C})\\\\\n",
    "= & \\ell_{C}+\\frac{1}{2}\\ell_{C}+2M_{0}(\\frac{1}{2})^{\\ell_{C}}+2M_{0}\\\\\n",
    "= & \\frac{3}{2}\\ell_{C}+2M_{0}(\\frac{1}{2})^{\\ell_{C}}+2M_{0}\\\\\n",
    "M_{1}= & \\sum_{\\ell_{C}=1}^{\\infty}S_{\\ell_{C}}(\\frac{1}{2})^{\\ell_{C}}\\big(\\frac{3}{2}\\ell_{C}+2M_{0}(\\frac{1}{2})^{\\ell_{C}}+2M_{0}\\big)\\\\\n",
    "= & \\sum_{\\ell_{C}=1}^{\\infty}S_{\\ell_{C}}(\\frac{1}{2})^{\\ell_{C}}\\frac{3}{2}\\ell_{C}\\\\\n",
    " & +\\sum_{\\ell_{C}=1}^{\\infty}S_{\\ell_{C}}(\\frac{1}{2})^{\\ell_{C}}2M_{0}(\\frac{1}{2})^{\\ell_{C}}\\\\\n",
    " & +\\sum_{\\ell_{C}=1}^{\\infty}S_{\\ell_{C}}(\\frac{1}{2})^{\\ell_{C}}2M_{0}\\\\\n",
    "= & M_{a}+M_{b}+M_{c}\\\\\n",
    "M_{a}= & \\sum_{\\ell_{C}=1}^{\\infty}S_{\\ell_{C}}(\\frac{1}{2})^{\\ell_{C}}\\frac{3}{2}\\ell_{C}\\\\\n",
    "= & \\frac{3}{2}\\sum_{\\ell_{C}=1}^{\\infty}S_{\\ell_{C}}\\ell_{C}(\\frac{1}{2})^{\\ell_{C}}\n",
    "\\end{alignat*}\n"
   ]
  },
  {
   "cell_type": "code",
   "execution_count": null,
   "metadata": {
    "collapsed": true
   },
   "outputs": [],
   "source": []
  },
  {
   "cell_type": "markdown",
   "metadata": {},
   "source": [
    "## let's be sensible here"
   ]
  },
  {
   "cell_type": "markdown",
   "metadata": {},
   "source": [
    "M_{1}= & \\sum_{\\ell_{C}=1}^{\\infty}S_{\\ell_{C}}(\\frac{1}{2})^{\\ell_{C}}\\big(\\frac{3}{2}\\ell_{C}+2M_{0}(\\frac{1}{2})^{\\ell_{C}}+2M_{0}\\big)\\\\"
   ]
  },
  {
   "cell_type": "code",
   "execution_count": null,
   "metadata": {
    "collapsed": true
   },
   "outputs": [],
   "source": []
  },
  {
   "cell_type": "markdown",
   "metadata": {},
   "source": [
    "\n",
    "\n",
    "WE have some generating function for \n",
    "\\[\n",
    "\\sum_{\\ell_{C}=0}^{\\infty}S_{\\ell_{C}}x^{\\ell_{C}}=G_{S}(x)\n",
    "\\]\n",
    "\n",
    "\n",
    "And if we take its derivative....\n",
    "\\begin{alignat*}{1}\n",
    "G_{S}^{\\prime}(x)= & \\frac{d}{dx}\\sum_{\\ell_{C}=0}^{\\infty}S_{\\ell_{C}}x^{\\ell_{C}}\\\\\n",
    "= & \\sum_{\\ell_{C}=0}^{\\infty}S_{\\ell_{C}}\\ell_{C}x^{\\ell_{C}-1}\\\\\n",
    "x\\cdot G_{S}^{\\prime}(x)= & \\sum_{\\ell_{C}=0}^{\\infty}S_{\\ell_{C}}\\ell_{C}x^{\\ell_{C}}\n",
    "\\end{alignat*}\n",
    "\n",
    "\n",
    "Which brings us back to the calculattion for $M_{a}$\n",
    "\\begin{alignat*}{1}\n",
    "M_{a}= & \\frac{3}{2}\\sum_{\\ell_{C}=1}^{\\infty}S_{\\ell_{C}}\\ell_{C}(\\frac{1}{2})^{\\ell_{C}}\\\\\n",
    "= & \\frac{3}{2}(\\frac{1}{2})G_{S}^{\\prime}(\\frac{1}{2})\n",
    "\\end{alignat*}\n",
    "\n",
    "\n",
    "Now continuing with $M_{b}$\n",
    "\\begin{alignat*}{1}\n",
    "M_{b}= & \\sum_{\\ell_{C}=1}^{\\infty}S_{\\ell_{C}}(\\frac{1}{2})^{\\ell_{C}}2M_{0}(\\frac{1}{2})^{\\ell_{C}}\\\\\n",
    "= & 2M_{0}\\sum_{\\ell_{C}=1}^{\\infty}S_{\\ell_{C}}(\\frac{1}{4})^{\\ell_{C}}\\\\\n",
    "= & 2M_{0}\\Big(\\sum_{\\ell_{C}=0}^{\\infty}S_{\\ell_{C}}(\\frac{1}{4})^{\\ell_{C}}-S_{0}\\Big)\\\\\n",
    "= & 2M_{0}\\Big(G_{S}(\\frac{1}{4})-S_{0}\\Big)\n",
    "\\end{alignat*}\n",
    "\n",
    "\n",
    "And $M_{c}$\n",
    "\\begin{alignat*}{1}\n",
    "M_{c}= & \\sum_{\\ell_{C}=1}^{\\infty}S_{\\ell_{C}}(\\frac{1}{2})^{\\ell_{C}}2M_{0}\\\\\n",
    "= & 2M_{0}\\sum_{\\ell_{C}=1}^{\\infty}S_{\\ell_{C}}(\\frac{1}{2})^{\\ell_{C}}\\\\\n",
    "= & 2M_{0}\\Big(\\sum_{\\ell_{C}=0}^{\\infty}S_{\\ell_{C}}(\\frac{1}{2})^{\\ell_{C}}-S_{0}\\Big)\\\\\n",
    "= & 2M_{0}\\Big(G_{S}(\\frac{1}{2})-S_{0}\\Big)\n",
    "\\end{alignat*}"
   ]
  },
  {
   "cell_type": "markdown",
   "metadata": {},
   "source": [
    "\n",
    "\n",
    "CONFRMING the $G_{S}$ function... \n",
    "\n",
    "I only care about it at $\\frac{1}{2}$ and $\\frac{1}{4}$. let u,\n",
    "v be values s.t: uv=x, u\\textasciicircum{}2+v\\textasciicircum{}2=1.\n",
    "CHECK THE OFF BY ONES.\n",
    "\n",
    "\\begin{alignat*}{1}\n",
    "G_{S}(n;x)= & \\frac{G_{F}(r=n-2;x)}{G_{F}(r=n-1;x)}\\\\\n",
    "G_{F}(r;x)= & \\frac{u^{2r+1}+v^{2r+1}}{u+v}\\\\\n",
    "G_{F}(r;x=\\frac{1}{2})= & \\frac{(\\frac{\\sqrt{2}}{2})^{2r+1}+(\\frac{\\sqrt{2}}{2})^{2r+1}}{\\frac{\\sqrt{2}}{2}+\\frac{\\sqrt{2}}{2}}\\\\\n",
    "= & \\frac{2(\\frac{\\sqrt{2}}{2})^{2r+1}}{\\sqrt{2}}\\\\\n",
    "= & 2(\\sqrt{\\frac{1}{2}})^{2r+1}\\sqrt{\\frac{1}{2}}\\\\\n",
    "= & 2(\\sqrt{\\frac{1}{2}})^{2r+2}\\\\\n",
    "= & (\\frac{1}{2})^{r}\\\\\n",
    "G_{S}(n;\\frac{1}{2})= & \\frac{G_{F}(r=n-2;\\frac{1}{2})}{G_{F}(r=n-1;\\frac{1}{2})}\\\\\n",
    "= & \\frac{(\\frac{1}{2})^{n-2}}{(\\frac{1}{2})^{n-1}}\\\\\n",
    "\\end{alignat*}\n",
    "\n",
    "\n",
    "snazzy.\n",
    "\n",
    "\\begin{alignat*}{1}\n",
    "G_{F}(r;x=\\frac{1}{4})= & \\frac{u^{2r+1}+v^{2r+1}}{u+v}\\\\\n",
    "= & \\frac{(\\frac{1}{4}(\\sqrt{2}+\\sqrt{6}))^{2r+1}+(\\frac{1}{\\sqrt{2}+\\sqrt{6}})^{2r+1}}{\\frac{1}{4}(\\sqrt{2}+\\sqrt{6})+\\frac{1}{\\sqrt{2}+\\sqrt{6}}}\\\\\n",
    "= & \\frac{(\\frac{1}{4}(\\sqrt{2}+\\sqrt{6}))(\\frac{1}{4}(\\sqrt{2}+\\sqrt{6}))^{2r}+(\\frac{1}{\\sqrt{2}+\\sqrt{6}})(\\frac{1}{\\sqrt{2}+\\sqrt{6}})^{2r}}{\\frac{\\sqrt{2}+\\sqrt{6}}{4}+\\frac{\\sqrt{6}-\\sqrt{2}}{34}}\\\\\n",
    "= & \\frac{(\\frac{\\sqrt{2}+\\sqrt{6}}{4})(\\frac{\\sqrt{2}+\\sqrt{6}}{4})^{2r}+(\\frac{\\sqrt{6}-\\sqrt{2}}{34})(\\frac{\\sqrt{6}-\\sqrt{2}}{34})^{2r}}{\\frac{\\sqrt{2}+\\sqrt{6}}{4}+\\frac{\\sqrt{6}-\\sqrt{2}}{34}}\\\\\n",
    "= & \\frac{(\\frac{\\sqrt{2}+\\sqrt{6}}{4})(\\frac{1}{4}(2+\\sqrt{3}))^{r}+(\\frac{\\sqrt{6}-\\sqrt{2}}{34})(\\frac{1}{289}(2-\\sqrt{3}))^{r}}{\\frac{1}{68}(15\\sqrt{2}+19\\sqrt{6})}\\\\\n",
    "= & \\frac{323\\sqrt{3}-255}{429}\\Bigg((\\frac{1+\\sqrt{3}}{2})(\\frac{2+\\sqrt{3}}{4})^{r}+(\\frac{\\sqrt{3}-1}{17})(\\frac{2-\\sqrt{3}}{289})^{r}\\Bigg)\\\\\n",
    "G_{S}(n;x)= & \\frac{\\frac{u^{2(n-2)+1}+v^{2(n-2)+1}}{u+v}}{\\frac{u^{2(n-1)+1}+v^{2(n-1)+1}}{u+v}}\\\\\n",
    "= & \\frac{u^{2(n-2)+1}+v^{2(n-2)+1}}{u^{2(n-1)+1}+v^{2(n-1)+1}}\\\\\n",
    "\\\\\n",
    "\\end{alignat*}\n",
    "\n",
    "\n",
    "OK sure but then suppose we have $M_{1}=\\alpha+\\beta M_{0}$."
   ]
  },
  {
   "cell_type": "code",
   "execution_count": null,
   "metadata": {
    "collapsed": true
   },
   "outputs": [],
   "source": []
  }
 ],
 "metadata": {
  "kernelspec": {
   "display_name": "SageMath 7.5.1",
   "language": "",
   "name": "sagemath"
  },
  "language_info": {
   "codemirror_mode": {
    "name": "ipython",
    "version": 2
   },
   "file_extension": ".py",
   "mimetype": "text/x-python",
   "name": "python",
   "nbconvert_exporter": "python",
   "pygments_lexer": "ipython2",
   "version": "2.7.13"
  }
 },
 "nbformat": 4,
 "nbformat_minor": 0
}
