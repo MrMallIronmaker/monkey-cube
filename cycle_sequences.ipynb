{
 "cells": [
  {
   "cell_type": "code",
   "execution_count": 1,
   "metadata": {
    "collapsed": true
   },
   "outputs": [],
   "source": [
    "import numpy as np"
   ]
  },
  {
   "cell_type": "code",
   "execution_count": 2,
   "metadata": {
    "collapsed": true
   },
   "outputs": [],
   "source": [
    "def pretty_print(m):\n",
    "    print m"
   ]
  },
  {
   "cell_type": "code",
   "execution_count": 3,
   "metadata": {},
   "outputs": [],
   "source": [
    "def generate_matrix(n, l):\n",
    "    m = np.zeros((l, n + 1))\n",
    "    m[0, 1] = 1\n",
    "    \n",
    "    for row in range(1, l):\n",
    "        m[row, 0] = m[row-1, 1] # col = 0\n",
    "        m[row, 1] = m[row-1, 2] # col = 1\n",
    "        # col from 2 to n - 1\n",
    "        for col in range(2, n-1):\n",
    "            m[row, col] = m[row-1, col-1] + m[row-1, col+1]\n",
    "        m[row, n-1] = m[row-1, n-2] # col is n - 1\n",
    "        m[row, n] = m[row-1, n-1] # col is n\n",
    "        \n",
    "    return m"
   ]
  },
  {
   "cell_type": "code",
   "execution_count": 26,
   "metadata": {},
   "outputs": [],
   "source": [
    "def fit_linear_recurrence(seq, terms):\n",
    "    \n",
    "    r = len(seq) - terms\n",
    "    c = terms\n",
    "    \n",
    "    A = np.zeros((r, c))\n",
    "    b = np.zeros((r, 1))\n",
    "    \n",
    "    for i in range(r):\n",
    "        A[i, :] = seq[i:i+c]\n",
    "        b[i] = seq[i+c]\n",
    "        \n",
    "    result = np.linalg.lstsq(A, b)\n",
    "    if result[1] > 0.000001:\n",
    "        print 'Not a good fit!'\n",
    "    return result[0]"
   ]
  },
  {
   "cell_type": "code",
   "execution_count": 73,
   "metadata": {},
   "outputs": [
    {
     "data": {
      "text/plain": [
       "array([   1.,    0.,    1.,    0.,    2.,    0.,    5.,    1.,   14.,\n",
       "          7.,   42.,   34.,  132.,  143.,  429.,  560.])"
      ]
     },
     "execution_count": 73,
     "metadata": {},
     "output_type": "execute_result"
    }
   ],
   "source": [
    "m = generate_matrix(9, 17)\n",
    "seq = (m[:, 0] + m[:, -1])[1:]\n",
    "#fit_linear_recurrence(seq, 8)\n",
    "seq"
   ]
  },
  {
   "cell_type": "code",
   "execution_count": 87,
   "metadata": {},
   "outputs": [
    {
     "name": "stdout",
     "output_type": "stream",
     "text": [
      "-0.828125\n",
      "-0.666666666667\n",
      "-0.4\n",
      "-0.285714285714\n",
      "-0.222222222222\n",
      "-0.181818181818\n",
      "-0.2\n",
      "-0.170212765957\n",
      "-0.147058823529\n",
      "-0.129032258065\n",
      "-0.114754098361\n"
     ]
    }
   ],
   "source": [
    "seq = [-1, -3, 6, 4, -5, -1, 1]\n",
    "\n",
    "apply_seq = lambda seq, x : sum([i * x**e for e, i in enumerate(seq)])\n",
    "\n",
    "weird_poly = lambda x, z : (1-z)/(1-x*z+z**2)\n",
    "\n",
    "print apply_seq(seq, .5)\n",
    "\n",
    "print weird_poly(4, .5)\n",
    "print weird_poly(5, .5)\n",
    "print weird_poly(6, .5)\n",
    "print weird_poly(7, .5)\n",
    "print weird_poly(8, .5)\n",
    "\n",
    "print weird_poly(.5, 4)\n",
    "print weird_poly(.5, 5)\n",
    "print weird_poly(.5, 6)\n",
    "print weird_poly(.5, 7)\n",
    "print weird_poly(.5, 8)\n",
    "\n",
    "\n"
   ]
  },
  {
   "cell_type": "code",
   "execution_count": null,
   "metadata": {
    "collapsed": true
   },
   "outputs": [],
   "source": []
  }
 ],
 "metadata": {
  "kernelspec": {
   "display_name": "Python 2",
   "language": "python",
   "name": "python2"
  },
  "language_info": {
   "codemirror_mode": {
    "name": "ipython",
    "version": 2
   },
   "file_extension": ".py",
   "mimetype": "text/x-python",
   "name": "python",
   "nbconvert_exporter": "python",
   "pygments_lexer": "ipython2",
   "version": "2.7.12"
  }
 },
 "nbformat": 4,
 "nbformat_minor": 2
}
