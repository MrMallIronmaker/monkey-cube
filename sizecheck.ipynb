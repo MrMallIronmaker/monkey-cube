{
 "cells": [
  {
   "cell_type": "code",
   "execution_count": 1,
   "metadata": {
    "collapsed": true
   },
   "outputs": [],
   "source": [
    "import scipy.sparse as sparse\n",
    "import scipy.sparse.linalg as linalg\n",
    "import numpy as np\n",
    "from random import randint\n",
    "import sys\n",
    "from matplotlib import pyplot as plt"
   ]
  },
  {
   "cell_type": "code",
   "execution_count": 2,
   "metadata": {
    "collapsed": true
   },
   "outputs": [],
   "source": [
    "size = 10000"
   ]
  },
  {
   "cell_type": "code",
   "execution_count": 3,
   "metadata": {
    "collapsed": true
   },
   "outputs": [],
   "source": [
    "mat = sparse.dok_matrix((size, size), dtype=np.float32)\n",
    "for i in range(size):\n",
    "    mat[i, i] = 1"
   ]
  },
  {
   "cell_type": "code",
   "execution_count": 4,
   "metadata": {
    "collapsed": true
   },
   "outputs": [],
   "source": [
    "vec = sparse.dok_matrix((size, 1), dtype=np.float32)\n",
    "for i in range(size):\n",
    "    vec[i, 0] = i"
   ]
  },
  {
   "cell_type": "code",
   "execution_count": 5,
   "metadata": {
    "collapsed": true
   },
   "outputs": [],
   "source": [
    "mat = mat.tocsc()"
   ]
  },
  {
   "cell_type": "code",
   "execution_count": 6,
   "metadata": {
    "scrolled": true
   },
   "outputs": [
    {
     "data": {
      "text/plain": [
       "array([  0.00000000e+00,   1.00000000e+00,   2.00000000e+00, ...,\n",
       "         9.99700000e+03,   9.99800000e+03,   9.99900000e+03], dtype=float32)"
      ]
     },
     "execution_count": 6,
     "metadata": {},
     "output_type": "execute_result"
    }
   ],
   "source": [
    "sparse.linalg.spsolve(mat, vec)"
   ]
  },
  {
   "cell_type": "code",
   "execution_count": 7,
   "metadata": {
    "collapsed": true
   },
   "outputs": [],
   "source": [
    "# ok! now try simulating the cube.\n",
    "# AS READABLE AS POSSIBLE.\n",
    "solved_configuration = (\n",
    "    (0, 0, 0, 0), (1, 1, 1, 1), (2, 2, 2, 2),\n",
    "    (3, 3, 3, 3), (4, 4, 4, 4), (5, 5, 5, 5)\n",
    ")\n",
    "\n",
    "def D(config):\n",
    "    # unpack.\n",
    "    (c01, c02, c03, c04), (c11, c12, c13, c14), (c21, c22, c23, c24), \\\n",
    "    (c31, c32, c33, c34), (c41, c42, c43, c44), (c51, c52, c53, c54) = config\n",
    "    \n",
    "    # repack.\n",
    "    return ((c01, c02, c03, c04), (c11, c44, c43, c14), (c21, c22, c12, c13),\n",
    "            (c31, c24, c23, c34), (c41, c42, c32, c33), (c52, c53, c54, c51))\n",
    "\n",
    "def Di(config):\n",
    "    # unpack.\n",
    "    (c01, c02, c03, c04), (c11, c44, c43, c14), (c21, c22, c12, c13), \\\n",
    "    (c31, c24, c23, c34), (c41, c42, c32, c33), (c52, c53, c54, c51) = config\n",
    "    \n",
    "    return ((c01, c02, c03, c04), (c11, c12, c13, c14), (c21, c22, c23, c24), \\\n",
    "            (c31, c32, c33, c34), (c41, c42, c43, c44), (c51, c52, c53, c54))\n",
    "\n",
    "def L(config):\n",
    "    (c01, c02, c03, c04), (c11, c12, c13, c14), (c21, c22, c23, c24), \\\n",
    "    (c31, c32, c33, c34), (c41, c42, c43, c44), (c51, c52, c53, c54) = config\n",
    "    \n",
    "    return ((c01, c34, c33, c04), (c11, c12, c02, c03), (c21, c22, c23, c24), \\\n",
    "            (c31, c32, c52, c53), (c42, c43, c44, c41), (c51, c14, c13, c54))\n",
    "\n",
    "def Li(config):\n",
    "    (c01, c34, c33, c04), (c11, c12, c02, c03), (c21, c22, c23, c24), \\\n",
    "    (c31, c32, c52, c53), (c42, c43, c44, c41), (c51, c14, c13, c54) = config\n",
    "    \n",
    "    return ((c01, c02, c03, c04), (c11, c12, c13, c14), (c21, c22, c23, c24), \\\n",
    "            (c31, c32, c33, c34), (c41, c42, c43, c44), (c51, c52, c53, c54))\n",
    "\n",
    "def B(config):\n",
    "    (c01, c02, c03, c04), (c11, c12, c13, c14), (c21, c22, c23, c24), \\\n",
    "    (c31, c32, c33, c34), (c41, c42, c43, c44), (c51, c52, c53, c54) = config\n",
    "    \n",
    "    return ((c01, c02, c22, c23), (c11, c12, c13, c14), (c21, c54, c53, c24), \\\n",
    "            (c32, c33, c34, c31), (c41, c04, c03, c44), (c51, c52, c42, c43))\n",
    "\n",
    "def Bi(config):\n",
    "    (c01, c02, c22, c23), (c11, c12, c13, c14), (c21, c54, c53, c24), \\\n",
    "    (c32, c33, c34, c31), (c41, c04, c03, c44), (c51, c52, c42, c43) = config\n",
    "\n",
    "    return ((c01, c02, c03, c04), (c11, c12, c13, c14), (c21, c22, c23, c24), \\\n",
    "            (c31, c32, c33, c34), (c41, c42, c43, c44), (c51, c52, c53, c54))"
   ]
  },
  {
   "cell_type": "code",
   "execution_count": 8,
   "metadata": {},
   "outputs": [
    {
     "name": "stdout",
     "output_type": "stream",
     "text": [
      "..........\n",
      "..........\n",
      "..........\n",
      "......"
     ]
    }
   ],
   "source": [
    "# let's do some math.\n",
    "start_point = solved_configuration\n",
    "new_states = set([start_point]) # everything that needs another look at\n",
    "states = set([start_point]) # everything\n",
    "links = set([]) # tuples of indexes into states\n",
    "rotations = [D, Di, L, Li, B, Bi]\n",
    "states_index = {start_point : 0}\n",
    "\n",
    "while new_states:\n",
    "    # get a new base state. this is what we're going to be clearing off our list.\n",
    "    base_state = new_states.pop()\n",
    "    \n",
    "    # now, rotate it in each direction:\n",
    "    for rotate in rotations:\n",
    "        new_state = rotate(base_state)\n",
    "        \n",
    "        # add the new state\n",
    "        if new_state not in states:\n",
    "            new_states.add(new_state)\n",
    "            states.add(new_state)\n",
    "            \n",
    "            states_index[new_state] = len(states) - 1\n",
    "            \n",
    "            if len(states) % 100000 == 0:\n",
    "                sys.stdout.write('.')\n",
    "                if len(states) % 1000000 == 0:\n",
    "                    sys.stdout.write('\\n')\n",
    "                sys.stdout.flush()\n",
    "                \n",
    "        \n",
    "        # add the link, if it's new, to the list.\n",
    "        link = (states_index[base_state], states_index[new_state])\n",
    "        if link not in links:\n",
    "            links.add(link)\n",
    "        \n",
    "        \n"
   ]
  },
  {
   "cell_type": "code",
   "execution_count": 9,
   "metadata": {},
   "outputs": [
    {
     "name": "stdout",
     "output_type": "stream",
     "text": [
      "3674160\n",
      "22044960\n"
     ]
    }
   ],
   "source": [
    "print len(states)\n",
    "print len(links)"
   ]
  },
  {
   "cell_type": "code",
   "execution_count": 20,
   "metadata": {
    "scrolled": true
   },
   "outputs": [
    {
     "name": "stdout",
     "output_type": "stream",
     "text": [
      ".\n",
      "....................................\n",
      "....................................\n",
      "....................................\n",
      "....................................\n",
      "....................................\n",
      "....................................\n",
      "...."
     ]
    }
   ],
   "source": [
    "smaller_size = \n",
    "\n",
    "mat = sparse.dok_matrix((3674159, 3674159), dtype=np.float64)\n",
    "for i in range(3674159):\n",
    "    mat[i, i] = 1\n",
    "for e, (s, d) in enumerate(links):\n",
    "    if e % 100000 == 0:\n",
    "        sys.stdout.write('.')\n",
    "        if e % 3600000 == 0:\n",
    "            sys.stdout.write('\\n')\n",
    "        sys.stdout.flush()\n",
    "    if s != 0 and d != 0:\n",
    "        mat[s-1, d-1] = -1/6."
   ]
  },
  {
   "cell_type": "code",
   "execution_count": 21,
   "metadata": {
    "collapsed": true
   },
   "outputs": [],
   "source": [
    "matcsr = mat.tocsr()"
   ]
  },
  {
   "cell_type": "code",
   "execution_count": 22,
   "metadata": {
    "collapsed": true
   },
   "outputs": [],
   "source": [
    "sparse.save_npz('matcsr.npz', matcsr)"
   ]
  },
  {
   "cell_type": "code",
   "execution_count": 2,
   "metadata": {},
   "outputs": [],
   "source": [
    "matcsr = sparse.load_npz('matcsr.npz')"
   ]
  },
  {
   "cell_type": "code",
   "execution_count": 40,
   "metadata": {
    "collapsed": true
   },
   "outputs": [],
   "source": [
    "small_size = 3674159\n",
    "small = matcsr[:small_size, :small_size]"
   ]
  },
  {
   "cell_type": "code",
   "execution_count": 3,
   "metadata": {},
   "outputs": [
    {
     "data": {
      "text/plain": [
       "array([[ 1.],\n",
       "       [ 1.],\n",
       "       [ 1.],\n",
       "       ..., \n",
       "       [ 1.],\n",
       "       [ 1.],\n",
       "       [ 1.]])"
      ]
     },
     "execution_count": 3,
     "metadata": {},
     "output_type": "execute_result"
    }
   ],
   "source": [
    "ones = np.ones((3674159, 1))\n",
    "ones"
   ]
  },
  {
   "cell_type": "code",
   "execution_count": 6,
   "metadata": {
    "collapsed": true
   },
   "outputs": [],
   "source": [
    "product = matcsr * ones"
   ]
  },
  {
   "cell_type": "code",
   "execution_count": 7,
   "metadata": {},
   "outputs": [
    {
     "data": {
      "image/png": "[encoded data removed]",
      "text/plain": [
       "<matplotlib.figure.Figure at 0x7f9cbf490990>"
      ]
     },
     "metadata": {},
     "output_type": "display_data"
    }
   ],
   "source": [
    "plt.plot(product)\n",
    "plt.show()"
   ]
  },
  {
   "cell_type": "code",
   "execution_count": 4,
   "metadata": {
    "collapsed": true
   },
   "outputs": [],
   "source": [
    "result, conv = sparse.linalg.bicg(matcsr, ones)"
   ]
  },
  {
   "cell_type": "code",
   "execution_count": 11,
   "metadata": {},
   "outputs": [],
   "source": [
    "solve_times = result"
   ]
  },
  {
   "cell_type": "code",
   "execution_count": 17,
   "metadata": {
    "collapsed": true
   },
   "outputs": [],
   "source": [
    "from_solved = product"
   ]
  },
  {
   "cell_type": "code",
   "execution_count": 10,
   "metadata": {},
   "outputs": [
    {
     "name": "stdout",
     "output_type": "stream",
     "text": [
      "4647940.18203\n"
     ]
    }
   ],
   "source": [
    "assert(conv == 0)\n",
    "print result.sum()/3674160"
   ]
  },
  {
   "cell_type": "code",
   "execution_count": 18,
   "metadata": {},
   "outputs": [
    {
     "data": {
      "text/plain": [
       "array([ 3674159.00005147])"
      ]
     },
     "execution_count": 18,
     "metadata": {},
     "output_type": "execute_result"
    }
   ],
   "source": [
    "from_solved.T.dot(solve_times) # NOTE this is states-1 - as would make sense!!!"
   ]
  },
  {
   "cell_type": "code",
   "execution_count": 46,
   "metadata": {},
   "outputs": [
    {
     "name": "stdout",
     "output_type": "stream",
     "text": [
      ".........."
     ]
    }
   ],
   "source": [
    "average_time = [0, from_solved.T.dot(solve_times)[0]]\n",
    "\n",
    "def get_chance_weights(matcsr, from_solved, old_weights, old_solved):\n",
    "    new_weights = -(matcsr*old_weights - old_weights) + old_solved * from_solved\n",
    "    new_solved = old_weights * from_solved\n",
    "    return new_weights, new_solved\n",
    "\n",
    "weights = from_solved\n",
    "solved = 0\n",
    "for i in range(100):\n",
    "    if i % 10 == 0:\n",
    "        sys.stdout.write('.')\n",
    "        sys.stdout.flush()\n",
    "    weights, solved = get_chance_weights(matcsr, from_solved, weights, solved)\n",
    "    # normalize weights\n",
    "    weights = weights / (weights.sum() + solved)\n",
    "    average_time.append(weights.T.dot(solve_times)[0])\n",
    "    "
   ]
  },
  {
   "cell_type": "code",
   "execution_count": 47,
   "metadata": {},
   "outputs": [
    {
     "data": {
      "image/png": "[encoded data removed]",
      "text/plain": [
       "<matplotlib.figure.Figure at 0x7f9ca64755d0>"
      ]
     },
     "metadata": {},
     "output_type": "display_data"
    }
   ],
   "source": [
    "plt.plot(average_time)\n",
    "plt.show()"
   ]
  },
  {
   "cell_type": "code",
   "execution_count": 48,
   "metadata": {},
   "outputs": [
    {
     "data": {
      "text/plain": [
       "[0,\n",
       " 3674159.0000514705,\n",
       " 4408989.5978337638,\n",
       " 4389128.3383732084,\n",
       " 4557466.1791546419,\n",
       " 4552060.6793231517,\n",
       " 4608894.095041737,\n",
       " 4606975.9285041597,\n",
       " 4629661.967994187,\n",
       " 4628881.2198805846,\n",
       " 4638861.4595863624,\n",
       " 4638514.6324559245,\n",
       " 4643209.3653481109,\n",
       " 4643045.0576804532,\n",
       " 4645371.1483706431,\n",
       " 4645289.0673806109,\n",
       " 4646492.9324581511,\n",
       " 4646449.9122585682,\n",
       " 4647097.4752467424,\n",
       " 4647073.8447569506,\n",
       " 4647434.6677386351,\n",
       " 4647421.0389589407,\n",
       " 4647628.7976561273,\n",
       " 4647620.510120769,\n",
       " 4647743.886027772,\n",
       " 4647738.5437836945,\n",
       " 4647813.9804637004,\n",
       " 4647810.3117300887,\n",
       " 4647857.7346896818,\n",
       " 4647855.0439737393,\n",
       " 4647885.6593301501,\n",
       " 4647883.555435664,\n",
       " 4647903.8364736959,\n",
       " 4647902.09340542,\n",
       " 4647915.875584906,\n",
       " 4647914.3594317846,\n",
       " 4647923.9703594893,\n",
       " 4647922.5998524539,\n",
       " 4647929.4840477183,\n",
       " 4647928.208749976,\n",
       " 4647933.2814175105,\n",
       " 4647932.0693736505,\n",
       " 4647935.9213978406,\n",
       " 4647934.7519756295,\n",
       " 4647937.7713787165,\n",
       " 4647936.6310298527,\n",
       " 4647939.0764867682,\n",
       " 4647937.9561786437,\n",
       " 4647940.0024345629,\n",
       " 4647938.8960653674,\n",
       " 4647940.6625334099,\n",
       " 4647939.5659339819,\n",
       " 4647941.1350323707,\n",
       " 4647940.0453245789,\n",
       " 4647941.4744242821,\n",
       " 4647940.3896052223,\n",
       " 4647941.7189351544,\n",
       " 4647940.6375996703,\n",
       " 4647941.8955444489,\n",
       " 4647940.8167016422,\n",
       " 4647942.023394987,\n",
       " 4647940.9463417539,\n",
       " 4647942.1161309183,\n",
       " 4647941.0403660387,\n",
       " 4647942.1835136879,\n",
       " 4647941.1086792164,\n",
       " 4647942.2325509991,\n",
       " 4647941.1583897732,\n",
       " 4647942.2682876782,\n",
       " 4647941.1946142409,\n",
       " 4647942.2943645753,\n",
       " 4647941.221045482,\n",
       " 4647942.313415058,\n",
       " 4647941.2403537687,\n",
       " 4647942.3273475831,\n",
       " 4647941.2544739749,\n",
       " 4647942.3375473693,\n",
       " 4647941.2648106012,\n",
       " 4647942.345021598,\n",
       " 4647941.2723849053,\n",
       " 4647942.350503847,\n",
       " 4647941.2779401215,\n",
       " 4647942.3545279801,\n",
       " 4647941.2820179146,\n",
       " 4647942.3574846536,\n",
       " 4647941.2850135174,\n",
       " 4647942.3596585747,\n",
       " 4647941.2872161334,\n",
       " 4647942.3612582777,\n",
       " 4647941.2888369178,\n",
       " 4647942.3624362703,\n",
       " 4647941.2900302494,\n",
       " 4647942.3633044176,\n",
       " 4647941.2909099907,\n",
       " 4647942.3639447298,\n",
       " 4647941.2915585777,\n",
       " 4647942.3644172186,\n",
       " 4647941.292037203,\n",
       " 4647942.3647662159,\n",
       " 4647941.29239076,\n",
       " 4647942.365024196,\n",
       " 4647941.292651955]"
      ]
     },
     "execution_count": 48,
     "metadata": {},
     "output_type": "execute_result"
    }
   ],
   "source": [
    "average_time"
   ]
  },
  {
   "cell_type": "code",
   "execution_count": null,
   "metadata": {
    "collapsed": true
   },
   "outputs": [],
   "source": []
  }
 ],
 "metadata": {
  "kernelspec": {
   "display_name": "Python 2",
   "language": "python",
   "name": "python2"
  },
  "language_info": {
   "codemirror_mode": {
    "name": "ipython",
    "version": 2
   },
   "file_extension": ".py",
   "mimetype": "text/x-python",
   "name": "python",
   "nbconvert_exporter": "python",
   "pygments_lexer": "ipython2",
   "version": "2.7.12"
  }
 },
 "nbformat": 4,
 "nbformat_minor": 2
}
