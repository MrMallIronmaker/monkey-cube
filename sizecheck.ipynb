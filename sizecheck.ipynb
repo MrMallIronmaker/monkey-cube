{
 "cells": [
  {
   "cell_type": "code",
   "execution_count": 2,
   "metadata": {
    "collapsed": true
   },
   "outputs": [],
   "source": [
    "import scipy.sparse as sparse\n",
    "import scipy.sparse.linalg as linalg\n",
    "import numpy as np\n",
    "from random import randint\n",
    "import sys\n",
    "from matplotlib import pyplot as plt"
   ]
  },
  {
   "cell_type": "code",
   "execution_count": 2,
   "metadata": {
    "collapsed": true
   },
   "outputs": [],
   "source": [
    "size = 10000"
   ]
  },
  {
   "cell_type": "code",
   "execution_count": 3,
   "metadata": {
    "collapsed": true
   },
   "outputs": [],
   "source": [
    "mat = sparse.dok_matrix((size, size), dtype=np.float32)\n",
    "for i in range(size):\n",
    "    mat[i, i] = 1"
   ]
  },
  {
   "cell_type": "code",
   "execution_count": 4,
   "metadata": {
    "collapsed": true
   },
   "outputs": [],
   "source": [
    "vec = sparse.dok_matrix((size, 1), dtype=np.float32)\n",
    "for i in range(size):\n",
    "    vec[i, 0] = i"
   ]
  },
  {
   "cell_type": "code",
   "execution_count": 5,
   "metadata": {
    "collapsed": true
   },
   "outputs": [],
   "source": [
    "mat = mat.tocsc()"
   ]
  },
  {
   "cell_type": "code",
   "execution_count": 6,
   "metadata": {
    "scrolled": true
   },
   "outputs": [
    {
     "data": {
      "text/plain": [
       "array([  0.00000000e+00,   1.00000000e+00,   2.00000000e+00, ...,\n",
       "         9.99700000e+03,   9.99800000e+03,   9.99900000e+03], dtype=float32)"
      ]
     },
     "execution_count": 6,
     "metadata": {},
     "output_type": "execute_result"
    }
   ],
   "source": [
    "sparse.linalg.spsolve(mat, vec)"
   ]
  },
  {
   "cell_type": "code",
   "execution_count": 7,
   "metadata": {
    "collapsed": true
   },
   "outputs": [],
   "source": [
    "# ok! now try simulating the cube.\n",
    "# AS READABLE AS POSSIBLE.\n",
    "solved_configuration = (\n",
    "    (0, 0, 0, 0), (1, 1, 1, 1), (2, 2, 2, 2),\n",
    "    (3, 3, 3, 3), (4, 4, 4, 4), (5, 5, 5, 5)\n",
    ")\n",
    "\n",
    "def D(config):\n",
    "    # unpack.\n",
    "    (c01, c02, c03, c04), (c11, c12, c13, c14), (c21, c22, c23, c24), \\\n",
    "    (c31, c32, c33, c34), (c41, c42, c43, c44), (c51, c52, c53, c54) = config\n",
    "    \n",
    "    # repack.\n",
    "    return ((c01, c02, c03, c04), (c11, c44, c43, c14), (c21, c22, c12, c13),\n",
    "            (c31, c24, c23, c34), (c41, c42, c32, c33), (c52, c53, c54, c51))\n",
    "\n",
    "def Di(config):\n",
    "    # unpack.\n",
    "    (c01, c02, c03, c04), (c11, c44, c43, c14), (c21, c22, c12, c13), \\\n",
    "    (c31, c24, c23, c34), (c41, c42, c32, c33), (c52, c53, c54, c51) = config\n",
    "    \n",
    "    return ((c01, c02, c03, c04), (c11, c12, c13, c14), (c21, c22, c23, c24), \\\n",
    "            (c31, c32, c33, c34), (c41, c42, c43, c44), (c51, c52, c53, c54))\n",
    "\n",
    "def L(config):\n",
    "    (c01, c02, c03, c04), (c11, c12, c13, c14), (c21, c22, c23, c24), \\\n",
    "    (c31, c32, c33, c34), (c41, c42, c43, c44), (c51, c52, c53, c54) = config\n",
    "    \n",
    "    return ((c01, c34, c33, c04), (c11, c12, c02, c03), (c21, c22, c23, c24), \\\n",
    "            (c31, c32, c52, c53), (c42, c43, c44, c41), (c51, c14, c13, c54))\n",
    "\n",
    "def Li(config):\n",
    "    (c01, c34, c33, c04), (c11, c12, c02, c03), (c21, c22, c23, c24), \\\n",
    "    (c31, c32, c52, c53), (c42, c43, c44, c41), (c51, c14, c13, c54) = config\n",
    "    \n",
    "    return ((c01, c02, c03, c04), (c11, c12, c13, c14), (c21, c22, c23, c24), \\\n",
    "            (c31, c32, c33, c34), (c41, c42, c43, c44), (c51, c52, c53, c54))\n",
    "\n",
    "def B(config):\n",
    "    (c01, c02, c03, c04), (c11, c12, c13, c14), (c21, c22, c23, c24), \\\n",
    "    (c31, c32, c33, c34), (c41, c42, c43, c44), (c51, c52, c53, c54) = config\n",
    "    \n",
    "    return ((c01, c02, c22, c23), (c11, c12, c13, c14), (c21, c54, c53, c24), \\\n",
    "            (c32, c33, c34, c31), (c41, c04, c03, c44), (c51, c52, c42, c43))\n",
    "\n",
    "def Bi(config):\n",
    "    (c01, c02, c22, c23), (c11, c12, c13, c14), (c21, c54, c53, c24), \\\n",
    "    (c32, c33, c34, c31), (c41, c04, c03, c44), (c51, c52, c42, c43) = config\n",
    "\n",
    "    return ((c01, c02, c03, c04), (c11, c12, c13, c14), (c21, c22, c23, c24), \\\n",
    "            (c31, c32, c33, c34), (c41, c42, c43, c44), (c51, c52, c53, c54))"
   ]
  },
  {
   "cell_type": "code",
   "execution_count": 8,
   "metadata": {},
   "outputs": [
    {
     "name": "stdout",
     "output_type": "stream",
     "text": [
      "..........\n",
      "..........\n",
      "..........\n",
      "......"
     ]
    }
   ],
   "source": [
    "# let's do some math.\n",
    "start_point = solved_configuration\n",
    "new_states = set([start_point]) # everything that needs another look at\n",
    "states = set([start_point]) # everything\n",
    "links = set([]) # tuples of indexes into states\n",
    "rotations = [D, Di, L, Li, B, Bi]\n",
    "states_index = {start_point : 0}\n",
    "\n",
    "while new_states:\n",
    "    # get a new base state. this is what we're going to be clearing off our list.\n",
    "    base_state = new_states.pop()\n",
    "    \n",
    "    # now, rotate it in each direction:\n",
    "    for rotate in rotations:\n",
    "        new_state = rotate(base_state)\n",
    "        \n",
    "        # add the new state\n",
    "        if new_state not in states:\n",
    "            new_states.add(new_state)\n",
    "            states.add(new_state)\n",
    "            \n",
    "            states_index[new_state] = len(states) - 1\n",
    "            \n",
    "            if len(states) % 100000 == 0:\n",
    "                sys.stdout.write('.')\n",
    "                if len(states) % 1000000 == 0:\n",
    "                    sys.stdout.write('\\n')\n",
    "                sys.stdout.flush()\n",
    "                \n",
    "        \n",
    "        # add the link, if it's new, to the list.\n",
    "        link = (states_index[base_state], states_index[new_state])\n",
    "        if link not in links:\n",
    "            links.add(link)\n",
    "        \n",
    "        \n"
   ]
  },
  {
   "cell_type": "code",
   "execution_count": 9,
   "metadata": {},
   "outputs": [
    {
     "name": "stdout",
     "output_type": "stream",
     "text": [
      "3674160\n",
      "22044960\n"
     ]
    }
   ],
   "source": [
    "print len(states)\n",
    "print len(links)"
   ]
  },
  {
   "cell_type": "code",
   "execution_count": 20,
   "metadata": {
    "scrolled": true
   },
   "outputs": [
    {
     "name": "stdout",
     "output_type": "stream",
     "text": [
      ".\n",
      "....................................\n",
      "....................................\n",
      "....................................\n",
      "....................................\n",
      "....................................\n",
      "....................................\n",
      "...."
     ]
    }
   ],
   "source": [
    "smaller_size = \n",
    "\n",
    "mat = sparse.dok_matrix((3674159, 3674159), dtype=np.float64)\n",
    "for i in range(3674159):\n",
    "    mat[i, i] = 1\n",
    "for e, (s, d) in enumerate(links):\n",
    "    if e % 100000 == 0:\n",
    "        sys.stdout.write('.')\n",
    "        if e % 3600000 == 0:\n",
    "            sys.stdout.write('\\n')\n",
    "        sys.stdout.flush()\n",
    "    if s != 0 and d != 0:\n",
    "        mat[s-1, d-1] = -1/6."
   ]
  },
  {
   "cell_type": "code",
   "execution_count": 21,
   "metadata": {
    "collapsed": true
   },
   "outputs": [],
   "source": [
    "matcsr = mat.tocsr()"
   ]
  },
  {
   "cell_type": "code",
   "execution_count": 22,
   "metadata": {
    "collapsed": true
   },
   "outputs": [],
   "source": [
    "sparse.save_npz('matcsr.npz', matcsr)"
   ]
  },
  {
   "cell_type": "code",
   "execution_count": 3,
   "metadata": {},
   "outputs": [],
   "source": [
    "matcsr = sparse.load_npz('matcsr.npz')"
   ]
  },
  {
   "cell_type": "code",
   "execution_count": 40,
   "metadata": {
    "collapsed": true
   },
   "outputs": [],
   "source": [
    "small_size = 3674159\n",
    "small = matcsr[:small_size, :small_size]"
   ]
  },
  {
   "cell_type": "code",
   "execution_count": 47,
   "metadata": {},
   "outputs": [
    {
     "data": {
      "text/plain": [
       "array([[ 1.],\n",
       "       [ 1.],\n",
       "       [ 1.],\n",
       "       ..., \n",
       "       [ 1.],\n",
       "       [ 1.],\n",
       "       [ 1.]])"
      ]
     },
     "execution_count": 47,
     "metadata": {},
     "output_type": "execute_result"
    }
   ],
   "source": [
    "ones = np.ones((3674159, 1))\n",
    "ones"
   ]
  },
  {
   "cell_type": "code",
   "execution_count": 48,
   "metadata": {
    "collapsed": true
   },
   "outputs": [],
   "source": [
    "#product = small * ones"
   ]
  },
  {
   "cell_type": "code",
   "execution_count": 49,
   "metadata": {},
   "outputs": [],
   "source": [
    "#plt.plot(product)\n",
    "#plt.show()"
   ]
  },
  {
   "cell_type": "code",
   "execution_count": 50,
   "metadata": {},
   "outputs": [],
   "source": [
    "result, conv = sparse.linalg.bicg(matcsr, ones)"
   ]
  },
  {
   "cell_type": "code",
   "execution_count": 54,
   "metadata": {},
   "outputs": [
    {
     "name": "stdout",
     "output_type": "stream",
     "text": [
      "4647941.44707\n"
     ]
    }
   ],
   "source": [
    "assert(conv == 0)\n",
    "print result.mean()"
   ]
  },
  {
   "cell_type": "code",
   "execution_count": null,
   "metadata": {
    "collapsed": true
   },
   "outputs": [],
   "source": []
  }
 ],
 "metadata": {
  "kernelspec": {
   "display_name": "Python 2",
   "language": "python",
   "name": "python2"
  },
  "language_info": {
   "codemirror_mode": {
    "name": "ipython",
    "version": 2
   },
   "file_extension": ".py",
   "mimetype": "text/x-python",
   "name": "python",
   "nbconvert_exporter": "python",
   "pygments_lexer": "ipython2",
   "version": "2.7.12"
  }
 },
 "nbformat": 4,
 "nbformat_minor": 2
}
