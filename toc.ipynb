{
 "cells": [
  {
   "cell_type": "markdown",
   "metadata": {},
   "source": [
    "## Table of Contents\n",
    "### [Introduction]\n",
    "- What are we solving?\n",
    "- Why is it called a Monkey Number?\n",
    "- How do we think about the problem?\n",
    "\n",
    "### [The Monkey Triangle](monkey_triangle.ipynb)\n",
    "- Start simply. Let's just 'solve' a triangle. \n",
    "- How long does it take for a monkey to solve a triangle?\n",
    "- What kind of tools do we have at our disposal to solve this problem?\n",
    "- **[A Refresher on Probability]**: How do we think about randomness in mathematics?\n",
    "- **[Systems of Equations]**: How do we solve two related equations at the same time?\n",
    "\n",
    "### [Monkey Squares, Pentagons, Hexagons, and Other Polygons]\n",
    "- Can we extend what we've learned about the triangle to other shapes?\n",
    "- Is there some formula that can give us the monkey number for a shape?\n",
    "- **[Matrix Multiplication]**: What is linear algebra? Why does it work here?\n",
    "- **[Python Code]**: What's going on in the code, step by step?\n",
    "\n",
    "### [Monkey Prisms]\n",
    "- What if we started looking at shapes that aren't flat? \n",
    "- How many moves does that shape take? \n",
    "- **[Open question]** Is there a closed-form solution for this kind of shape?\n",
    "\n",
    "### [1x1x1 Cube]\n",
    "- What changes with getting the right orientation of the 1x1x1 cube?\n",
    "- Given a starting state and different moves, how do we create the network of states?\n",
    "- **[Graph Terminology]**\n",
    "\n",
    "### [2x2x2 Cube]\n",
    "- What changes with a bigger cube?\n",
    "- What makes this computationally hard?\n",
    "- **[Big-O notation and Algorithmic Complexity]**: What do we need to compute?\n",
    "- **[Sparse Matricies]**: Can we use the fact our matrix is mostly zeros?"
   ]
  },
  {
   "cell_type": "code",
   "execution_count": null,
   "metadata": {
    "collapsed": true
   },
   "outputs": [],
   "source": []
  }
 ],
 "metadata": {
  "kernelspec": {
   "display_name": "Python 2",
   "language": "python",
   "name": "python2"
  },
  "language_info": {
   "codemirror_mode": {
    "name": "ipython",
    "version": 2
   },
   "file_extension": ".py",
   "mimetype": "text/x-python",
   "name": "python",
   "nbconvert_exporter": "python",
   "pygments_lexer": "ipython2",
   "version": "2.7.12"
  }
 },
 "nbformat": 4,
 "nbformat_minor": 2
}
