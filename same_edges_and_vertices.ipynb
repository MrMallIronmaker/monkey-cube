{
 "cells": [
  {
   "cell_type": "code",
   "execution_count": 1,
   "metadata": {
    "collapsed": true
   },
   "outputs": [],
   "source": [
    "# in a graph where vertices are indistinguishable from every other...\n",
    "# is it merely a function of number of edges and verticies?\n",
    "\n",
    "import numpy as np"
   ]
  },
  {
   "cell_type": "code",
   "execution_count": 2,
   "metadata": {},
   "outputs": [
    {
     "data": {
      "text/plain": [
       "array([[ 1.        ,  0.        , -0.33333333, -0.33333333, -0.33333333],\n",
       "       [ 0.        ,  1.        , -0.33333333, -0.33333333, -0.33333333],\n",
       "       [-0.33333333, -0.33333333,  1.        ,  0.        ,  0.        ],\n",
       "       [-0.33333333, -0.33333333,  0.        ,  1.        ,  0.        ],\n",
       "       [-0.33333333, -0.33333333,  0.        ,  0.        ,  1.        ]])"
      ]
     },
     "execution_count": 2,
     "metadata": {},
     "output_type": "execute_result"
    }
   ],
   "source": [
    "# consider the bipartite graph K_{3,3}\n",
    "# its 'markov matrix' <- made up term\n",
    "# is as follows:\n",
    "l3 = -1/3.0\n",
    "k33 = np.array([\n",
    "    [ 1,  0, l3, l3, l3],\n",
    "    [ 0,  1, l3, l3, l3],\n",
    "    [l3, l3,  1,  0,  0],\n",
    "    [l3, l3,  0,  1,  0],\n",
    "    [l3, l3,  0,  0,  1],\n",
    "])\n",
    "k33"
   ]
  },
  {
   "cell_type": "code",
   "execution_count": 3,
   "metadata": {},
   "outputs": [
    {
     "name": "stdout",
     "output_type": "stream",
     "text": [
      "[[ 1.         -0.33333333  0.         -0.33333333  0.        ]\n",
      " [-0.33333333  1.          0.          0.         -0.33333333]\n",
      " [ 0.          0.          1.         -0.33333333 -0.33333333]\n",
      " [-0.33333333  0.         -0.33333333  1.         -0.33333333]\n",
      " [ 0.         -0.33333333 -0.33333333 -0.33333333  1.        ]]\n"
     ]
    }
   ],
   "source": [
    "# consider the graph of a triangular prism\n",
    "# its 'markov matrix' <- made up term\n",
    "# is as follows:\n",
    "tpg = np.array([\n",
    "    [ 1, l3,  0, l3,  0],\n",
    "    [l3,  1,  0,  0, l3],\n",
    "    [ 0,  0,  1, l3, l3],\n",
    "    [l3,  0, l3,  1, l3],\n",
    "    [ 0, l3, l3, l3,  1],\n",
    "])\n",
    "print tpg"
   ]
  },
  {
   "cell_type": "code",
   "execution_count": 5,
   "metadata": {},
   "outputs": [
    {
     "name": "stdout",
     "output_type": "stream",
     "text": [
      "4.5\n",
      "4.7\n"
     ]
    }
   ],
   "source": [
    "# solve each, and compare average solution times.\n",
    "costs = np.ones(5)\n",
    "k33_moves = np.linalg.solve(k33, costs)\n",
    "tpg_moves = np.linalg.solve(tpg, costs)\n",
    "print k33_moves.sum() / 6.0\n",
    "print tpg_moves.sum() / 6.0"
   ]
  },
  {
   "cell_type": "code",
   "execution_count": null,
   "metadata": {
    "collapsed": true
   },
   "outputs": [],
   "source": []
  }
 ],
 "metadata": {
  "kernelspec": {
   "display_name": "Python 2",
   "language": "python",
   "name": "python2"
  },
  "language_info": {
   "codemirror_mode": {
    "name": "ipython",
    "version": 2
   },
   "file_extension": ".py",
   "mimetype": "text/x-python",
   "name": "python",
   "nbconvert_exporter": "python",
   "pygments_lexer": "ipython2",
   "version": "2.7.12"
  }
 },
 "nbformat": 4,
 "nbformat_minor": 2
}
