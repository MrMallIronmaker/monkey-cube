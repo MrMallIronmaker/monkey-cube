{
 "cells": [
  {
   "cell_type": "markdown",
   "metadata": {},
   "source": [
    "# Start Simpler\n",
    "A 3x3x3 Rubik's cube is pretty complex. Can we start simpler?\n",
    "\n",
    "[image of 2x2x2 cube]\n",
    "\n",
    "No, even simpler.\n",
    "\n",
    "[image of 1x1x1 cube]\n",
    "\n",
    "Think even simpler.\n",
    "\n",
    "[image of square]\n",
    "\n",
    "Just a little farther...\n",
    "\n",
    "[image of triangle]\n",
    "\n",
    "There we go! We'll start by thinking about a triangle. A triangle can be in one of three conditions:\n",
    "\n",
    "\n",
    "      •          ^         ^\n",
    "     /1\\   or   /2\\   or  /3\\\n",
    "    -----      •----     ----•\n",
    "\n",
    "The Rubik's cube has a lot of moves. We'll give ourselves exactly two moves: rotate clockwise by 120 degrees, or rotate counterclockwise by 120 degrees. [Todo: why?]\n",
    "\n",
    "[maybe add a table about what the rotations do?]"
   ]
  },
  {
   "cell_type": "markdown",
   "metadata": {},
   "source": [
    "# Considering the Triangle\n",
    "\n",
    "Recall the question we're answering. On average, how many random moves will it take to solve a randomly mixed up Rubik's cube? How does that translate into a triangle? We'll call the 'solved' state the triangle where the dot is on top. Number 1, to be precise. Our moves are one of two: either rotating clockwise, or rotating counterclockwise.\n",
    "\n",
    "We're going to solve this question in two steps. First, we calculate, for each of the three states, how long it takes on average to be solved. Then, we consider the average of all of them, because the state we start out in is randomly chosen from all possible states."
   ]
  },
  {
   "cell_type": "markdown",
   "metadata": {},
   "source": [
    "## How many steps from Triangle 1? 2? 3?\n",
    "\n",
    "The first triangle is easy. It's in state 1, which is already the solved state. We use exactly 0 moves to solve that triangle. In symbols, I say that $M_1 = 0$. You can read $M_1$ as \"the number of **M**oves to solve triangle **1**\", and so $M_1 = 0$ means \"The number of moves to solve triangle 1 is 0.\"\n",
    "\n",
    "Now let's consider what will happen from triangle two. It's clear that we'll need at least one random move. Then, with the random move, there are two options. Either it becomes like triangle 1, or like triangle 3, both with probability 1/2. After that, the the number of random moves to solve the triangle are the very numbers we're calculating. No worries - we'll figure those numbers out in a bit. For now, let's write our equation using the $M$ variables.\n",
    "\n",
    "$$M_2 = 1 + \\frac{1}{2}M_1 + \\frac{1}{2}M_3$$\n",
    "\n",
    "We follow a similar idea for calculating $M_3$. Either triangle 3 rotates clockwise to triangle 2 or counterclockwise to triangle 1. We need at least one random move, plus however many random moves it takes to solve the triangle from wherever we end up.\n",
    "\n",
    "$$M_3 = 1 + \\frac{1}{2}M_1 + \\frac{1}{2}M_2$$\n",
    "\n",
    "Now we can substitute our equation for $M_3$ into the equation for $M_2$.\n",
    " [sidebar - how did i think to substitute?]\n",
    "\n",
    "$$M_2 = 1 + \\frac{1}{2}M_1 + \\frac{1}{2}(1 + \\frac{1}{2}M_1 + \\frac{1}{2}M_2)$$\n",
    "\n",
    "Remember, $M_1 = 0$, so we can take those terms out.\n",
    "\n",
    "$$M_2 = 1 + \\frac{1}{2}(1 + \\frac{1}{2}M_2)$$\n",
    "\n",
    "Multiply out,\n",
    "\n",
    "$$M_2 = 1 + \\frac{1}{2} + \\frac{1}{4}M_2$$\n",
    "\n",
    "combine like terms,\n",
    "\n",
    "$$\\frac{3}{4}M_2 = \\frac{3}{2}$$\n",
    "\n",
    "and divide.\n",
    "\n",
    "$$M_2 = 2$$\n",
    "\n",
    "With that value, we can solve for what $M_3$ is too.\n",
    "\n",
    "$$M_3 = 1 + \\frac{1}{2}M_1 + \\frac{1}{2}M_2$$\n",
    "\n",
    "$$M_3 = 1 + 0 + \\frac{1}{2}(2)$$\n",
    "\n",
    "$$M_3 = 2$$\n",
    "\n",
    "[sidebar: Why are $M_2$ and $M_3$ both 2? think symmetry]"
   ]
  },
  {
   "cell_type": "markdown",
   "metadata": {},
   "source": [
    "## How many steps from a randomly selected triangle?\n",
    "\n",
    "We have three triangles: 1, 2, and 3. Each of them, as we discussed above, have the same probability of being selected, which must be $\\frac{1}{3}$. Once we randomly choose a triangle, we know how long, on average, it takes to be solved. With $M_{\\triangle}$ representing the number of moves from a randomly chosen triangle, we can write:\n",
    "\n",
    "$$M_{\\triangle} = \\frac{1}{3}M_1 + \\frac{1}{3}M_2 + \\frac{1}{3}M_3$$\n",
    "\n",
    "$$M_{\\triangle} = 0 + \\frac{2}{3} + \\frac{2}{3}$$\n",
    "\n",
    "$$M_{\\triangle} = \\frac{4}{3}$$\n",
    "\n",
    "And there we have it! The average number of moves to solved from a randomly selected triangle is $\\frac{4}{3}$."
   ]
  },
  {
   "cell_type": "markdown",
   "metadata": {},
   "source": [
    "# Verifying our math\n",
    "This is a small example we're using to make sure we understand the problem correctly. We can also write up a simple program to double-check our understanding and our math. If we come up with the same answer, we can be more confident that we are understanding the problem correctly.\n",
    "\n",
    "The basic structure is as follows:\n",
    "1. Randomly choose a starting position from (1, 2, 3).\n",
    "2. Check if our solution is solved [in position 1]\n",
    "3. If it's not, add one to the number of moves we've used, then...\n",
    "4. Randomly choose one of the other possibilities to move to, and return to step 2."
   ]
  },
  {
   "cell_type": "code",
   "execution_count": 1,
   "metadata": {},
   "outputs": [],
   "source": [
    "# 'choice' is a function that takes a list and randomly \n",
    "# chooses an item from it. Super handy!\n",
    "from random import choice"
   ]
  },
  {
   "cell_type": "code",
   "execution_count": 2,
   "metadata": {
    "collapsed": true
   },
   "outputs": [],
   "source": [
    "# this function tells which triangles are possible after performing a random move.\n",
    "def get_next_possibilities(triangle):\n",
    "    if triangle == 2:\n",
    "        possibilities = [3, 1]\n",
    "    elif triangle == 3:\n",
    "        possibilities = [1, 2]\n",
    "    return possibilities"
   ]
  },
  {
   "cell_type": "code",
   "execution_count": 3,
   "metadata": {},
   "outputs": [
    {
     "name": "stdout",
     "output_type": "stream",
     "text": [
      "We found an average of 1.336 moves.\n",
      "This differs from our prediction by 0.003.\n"
     ]
    }
   ],
   "source": [
    "# If you run more trials, the number will be\n",
    "# more accurate, but it will take longer.\n",
    "number_of_trials = 10000\n",
    "\n",
    "# This function does most of the work.\n",
    "move_counts = []\n",
    "for _ in range(number_of_trials):\n",
    "    move_count = 0.\n",
    "    triangle = choice([1, 2, 3]) # Step 1\n",
    "    \n",
    "    while triangle is not 1: # Step 2\n",
    "        move_count = move_count + 1 # Step 3\n",
    "        possibilities = get_next_possibilities(triangle)\n",
    "        triangle = choice(possibilities) # Step 4\n",
    "    move_counts.append(move_count)\n",
    "\n",
    "# Let's see what we got!\n",
    "average_number_of_moves = sum(move_counts) / len(move_counts)\n",
    "print \"We found an average of {:.3f} moves.\".format(average_number_of_moves)\n",
    "difference = abs(average_number_of_moves - 4./3)\n",
    "print \"This differs from our prediction by {:.3f}.\".format(difference)"
   ]
  },
  {
   "cell_type": "code",
   "execution_count": null,
   "metadata": {
    "collapsed": true
   },
   "outputs": [],
   "source": []
  }
 ],
 "metadata": {
  "kernelspec": {
   "display_name": "Python 2",
   "language": "python",
   "name": "python2"
  },
  "language_info": {
   "codemirror_mode": {
    "name": "ipython",
    "version": 2
   },
   "file_extension": ".py",
   "mimetype": "text/x-python",
   "name": "python",
   "nbconvert_exporter": "python",
   "pygments_lexer": "ipython2",
   "version": "2.7.12"
  }
 },
 "nbformat": 4,
 "nbformat_minor": 2
}
