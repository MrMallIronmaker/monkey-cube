{
 "cells": [
  {
   "cell_type": "code",
   "execution_count": 1,
   "metadata": {
    "collapsed": true
   },
   "outputs": [],
   "source": [
    "import numpy as np"
   ]
  },
  {
   "cell_type": "code",
   "execution_count": 6,
   "metadata": {},
   "outputs": [
    {
     "data": {
      "text/plain": [
       "array([[ 1. , -0.5,  0. ,  0. ,  0. ],\n",
       "       [-0.5,  1. , -0.5,  0. ,  0. ],\n",
       "       [ 0. , -0.5,  1. , -0.5,  0. ],\n",
       "       [ 0. ,  0. , -0.5,  1. , -0.5],\n",
       "       [ 0. ,  0. ,  0. , -0.5,  1. ]])"
      ]
     },
     "execution_count": 6,
     "metadata": {},
     "output_type": "execute_result"
    }
   ],
   "source": [
    "def build_moves_matrix(n):\n",
    "    # n is the size of the matrix\n",
    "    matrix = np.diag(np.ones(n))\n",
    "    negative_halves = np.repeat(-.5, n-1)\n",
    "    matrix += np.diag(negative_halves, 1) + np.diag(negative_halves, -1)\n",
    "    return matrix\n",
    "\n",
    "build_moves_matrix(5)"
   ]
  },
  {
   "cell_type": "code",
   "execution_count": 47,
   "metadata": {},
   "outputs": [
    {
     "name": "stdout",
     "output_type": "stream",
     "text": [
      "weights: [ 3.  4.  3.]\n",
      "average walk: 2.5\n",
      "2.5\n"
     ]
    }
   ],
   "source": [
    "ring_size = 4\n",
    "moves = build_moves_matrix(ring_size - 1)\n",
    "\n",
    "weights = np.linalg.solve(moves, np.repeat(1, ring_size - 1))\n",
    "\n",
    "print 'weights: {}'.format(weights)\n",
    "print 'average walk: {}'.format(sum(weights) / ring_size)\n",
    "\n",
    "n = ring_size\n",
    "print (n*n - 1)/6.\n"
   ]
  },
  {
   "cell_type": "code",
   "execution_count": null,
   "metadata": {
    "collapsed": true
   },
   "outputs": [],
   "source": []
  }
 ],
 "metadata": {
  "kernelspec": {
   "display_name": "Python 2",
   "language": "python",
   "name": "python2"
  },
  "language_info": {
   "codemirror_mode": {
    "name": "ipython",
    "version": 2
   },
   "file_extension": ".py",
   "mimetype": "text/x-python",
   "name": "python",
   "nbconvert_exporter": "python",
   "pygments_lexer": "ipython2",
   "version": "2.7.12"
  }
 },
 "nbformat": 4,
 "nbformat_minor": 2
}
