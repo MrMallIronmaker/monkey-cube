{
 "cells": [
  {
   "cell_type": "markdown",
   "metadata": {},
   "source": [
    "# Moving Up to a Square\n",
    "\n",
    "Next, we consider a square. \n",
    "\n",
    "[what can you do with a square? aka how much do you rotate it.]\n",
    "\n",
    "We can try solving it the same way we did the triangle - with systems of equations. However, we'll have a lot of equations. \n",
    "\n",
    "One thing to notice, though, is that we've got a *linear system of equations*, which is really well suited for *linear algebra*. \n",
    "\n",
    "[Sidebar: what is linear algebra?]\n",
    "[Sidebar: how does one realize this?]"
   ]
  },
  {
   "cell_type": "markdown",
   "metadata": {},
   "source": [
    "## As a Matrix\n",
    "\n",
    "All of the equations have the form \n",
    "\n",
    "$$M_n = 1 + \\frac{1}{2}M_{n-1} + \\frac{1}{2}M_{n+1}$$\n",
    "\n",
    "We can rearrange this to \n",
    "\n",
    "$$-\\frac{1}{2}M_{n-1} + M_n + -\\frac{1}{2}M_{n+1} = 1$$\n",
    "\n",
    "also, if we pay attention, let's take out the references to M_1 because it's zero.\n",
    "\n",
    "With a square, we get the equations: [notice the spacing]\n",
    "\n",
    "$$\\begin{matrix}\n",
    "M_2 & -\\frac{1}{2}M_3 & & = 1 \\\\\n",
    "-\\frac{1}{2}M_2 & + M_3 & -\\frac{1}{2}M_4 & = 1 \\\\\n",
    "& -\\frac{1}{2}M_3 & + M_4 & = 1 \\\\\n",
    "\\end{matrix}$$\n",
    "\n",
    "This is equivalent to the matrix equation:\n",
    "\n",
    "$$\\begin{bmatrix}\n",
    "               1 & -\\frac{1}{2} &            0 \\\\\n",
    "    -\\frac{1}{2} &            1 & -\\frac{1}{2} \\\\\n",
    "               0 & -\\frac{1}{2} &            1\n",
    "\\end{bmatrix}\n",
    "\\begin{bmatrix} M_2 \\\\ M_3 \\\\ M_4 \\\\ \\end{bmatrix}\n",
    "=\\begin{bmatrix} 1 \\\\ 1 \\\\ 1 \\\\ \\end{bmatrix}\n",
    "$$\n",
    "\n",
    "This can be solved pretty quickly by a computer program.\n",
    "\n",
    "What's nice about this is that it's a simple pattern. If we have a pentagon, for example, and we're rotating by 72 degrees, we have the matrix:\n",
    "\n",
    "$$\\begin{bmatrix}\n",
    "               1 & -\\frac{1}{2} &            0 &            0 \\\\\n",
    "    -\\frac{1}{2} &            1 & -\\frac{1}{2} &            0 \\\\\n",
    "               0 & -\\frac{1}{2} &            1 & -\\frac{1}{2} \\\\\n",
    "               0 &            0 & -\\frac{1}{2} &            1 \\\\\n",
    "\\end{bmatrix}\n",
    "\\begin{bmatrix} M_2 \\\\ M_3 \\\\ M_4 \\\\ M_5 \\end{bmatrix}\n",
    "=\\begin{bmatrix} 1 \\\\ 1 \\\\ 1 \\\\ 1 \\end{bmatrix}\n",
    "$$\n",
    "\n",
    "and more generally, we have, for a n-sided polygon, with two rotations only, we have:\n",
    "\n",
    "$$\\begin{bmatrix}\n",
    "               1 & -\\frac{1}{2} &            0 &        \\dots &            0 \\\\\n",
    "    -\\frac{1}{2} &            1 & -\\frac{1}{2} &        \\dots &            0 \\\\\n",
    "               0 & -\\frac{1}{2} &            1 &        \\dots &            0 \\\\\n",
    "          \\vdots &       \\vdots &       \\vdots &       \\ddots & -\\frac{1}{2} \\\\\n",
    "               0 &            0 &            0 & -\\frac{1}{2} &            1 \\\\\n",
    "\\end{bmatrix}\n",
    "\\begin{bmatrix} M_2 \\\\ M_3 \\\\ M_4 \\\\ \\vdots \\\\ M_n \\end{bmatrix}\n",
    "=\\begin{bmatrix} 1 \\\\ 1 \\\\ 1 \\\\ \\vdots \\\\ 1 \\end{bmatrix}\n",
    "$$"
   ]
  },
  {
   "cell_type": "code",
   "execution_count": null,
   "metadata": {
    "collapsed": true
   },
   "outputs": [],
   "source": []
  }
 ],
 "metadata": {
  "kernelspec": {
   "display_name": "Python 2",
   "language": "python",
   "name": "python2"
  },
  "language_info": {
   "codemirror_mode": {
    "name": "ipython",
    "version": 2
   },
   "file_extension": ".py",
   "mimetype": "text/x-python",
   "name": "python",
   "nbconvert_exporter": "python",
   "pygments_lexer": "ipython2",
   "version": "2.7.12"
  }
 },
 "nbformat": 4,
 "nbformat_minor": 2
}
